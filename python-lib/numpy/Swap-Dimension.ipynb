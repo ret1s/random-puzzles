{
 "cells": [
  {
   "cell_type": "code",
   "execution_count": 1,
   "id": "prerequisite-coaching",
   "metadata": {},
   "outputs": [],
   "source": [
    "import numpy as np"
   ]
  },
  {
   "cell_type": "markdown",
   "id": "individual-discharge",
   "metadata": {},
   "source": [
    "This is based on NumPy Doc https://numpy.org/doc/stable"
   ]
  },
  {
   "cell_type": "markdown",
   "id": "native-voluntary",
   "metadata": {},
   "source": [
    "<b>moveaxis(a, source, destination)</b>: Move axes of an array to new positions<br>\n",
    "Return a view of the input array"
   ]
  },
  {
   "cell_type": "code",
   "execution_count": 2,
   "id": "active-hanging",
   "metadata": {},
   "outputs": [
    {
     "data": {
      "text/plain": [
       "(4, 5, 3)"
      ]
     },
     "execution_count": 2,
     "metadata": {},
     "output_type": "execute_result"
    }
   ],
   "source": [
    "x = np.zeros((3, 4, 5))\n",
    "np.moveaxis(x, 0, -1).shape"
   ]
  },
  {
   "cell_type": "code",
   "execution_count": 3,
   "id": "practical-muscle",
   "metadata": {},
   "outputs": [
    {
     "data": {
      "text/plain": [
       "(5, 3, 4)"
      ]
     },
     "execution_count": 3,
     "metadata": {},
     "output_type": "execute_result"
    }
   ],
   "source": [
    "np.moveaxis(x, -1, 0).shape"
   ]
  },
  {
   "cell_type": "markdown",
   "id": "directed-blame",
   "metadata": {},
   "source": [
    "<b>rollaxis(x, axis, start=0)</b>: Roll the specified axis backwards, until it lies in a given posisiton<br>\n",
    "Return a view of the input array"
   ]
  },
  {
   "cell_type": "code",
   "execution_count": 6,
   "id": "entitled-visiting",
   "metadata": {},
   "outputs": [
    {
     "data": {
      "text/plain": [
       "(3, 6, 4, 5)"
      ]
     },
     "execution_count": 6,
     "metadata": {},
     "output_type": "execute_result"
    }
   ],
   "source": [
    "a = np.ones((3,4,5,6))\n",
    "np.rollaxis(a, 3, 1).shape"
   ]
  },
  {
   "cell_type": "code",
   "execution_count": 7,
   "id": "radical-plenty",
   "metadata": {},
   "outputs": [
    {
     "data": {
      "text/plain": [
       "(5, 3, 4, 6)"
      ]
     },
     "execution_count": 7,
     "metadata": {},
     "output_type": "execute_result"
    }
   ],
   "source": [
    "np.rollaxis(a, 2).shape"
   ]
  },
  {
   "cell_type": "code",
   "execution_count": 8,
   "id": "nasty-meditation",
   "metadata": {},
   "outputs": [
    {
     "data": {
      "text/plain": [
       "(3, 5, 6, 4)"
      ]
     },
     "execution_count": 8,
     "metadata": {},
     "output_type": "execute_result"
    }
   ],
   "source": [
    "np.rollaxis(a, 1, 4).shape"
   ]
  },
  {
   "cell_type": "code",
   "execution_count": 10,
   "id": "essential-stereo",
   "metadata": {},
   "outputs": [
    {
     "data": {
      "text/plain": [
       "(3, 5, 6, 4)"
      ]
     },
     "execution_count": 10,
     "metadata": {},
     "output_type": "execute_result"
    }
   ],
   "source": [
    "np.moveaxis(a, 1, 3).shape"
   ]
  },
  {
   "cell_type": "markdown",
   "id": "developmental-state",
   "metadata": {},
   "source": [
    "<b>swapaxes(a, axis1, axis2)</b>: Interchange two axes of an array<br>\n",
    "If a is an ndarray, then a view of a is returned, otherwise a new array is created."
   ]
  },
  {
   "cell_type": "code",
   "execution_count": 17,
   "id": "optimum-highway",
   "metadata": {},
   "outputs": [
    {
     "data": {
      "text/plain": [
       "(1, 3)"
      ]
     },
     "execution_count": 17,
     "metadata": {},
     "output_type": "execute_result"
    }
   ],
   "source": [
    "x = np.array([[1, 2, 3]])\n",
    "x.shape"
   ]
  },
  {
   "cell_type": "code",
   "execution_count": 18,
   "id": "congressional-average",
   "metadata": {},
   "outputs": [
    {
     "data": {
      "text/plain": [
       "array([[1],\n",
       "       [2],\n",
       "       [3]])"
      ]
     },
     "execution_count": 18,
     "metadata": {},
     "output_type": "execute_result"
    }
   ],
   "source": [
    "np.swapaxes(x, 0, 1)"
   ]
  },
  {
   "cell_type": "code",
   "execution_count": 19,
   "id": "capital-fence",
   "metadata": {},
   "outputs": [
    {
     "data": {
      "text/plain": [
       "(3, 1)"
      ]
     },
     "execution_count": 19,
     "metadata": {},
     "output_type": "execute_result"
    }
   ],
   "source": [
    "np.swapaxes(x, 0, 1).shape"
   ]
  },
  {
   "cell_type": "code",
   "execution_count": 42,
   "id": "hourly-express",
   "metadata": {},
   "outputs": [
    {
     "data": {
      "text/plain": [
       "array([[[0, 1],\n",
       "        [2, 3]],\n",
       "\n",
       "       [[4, 5],\n",
       "        [6, 7]]])"
      ]
     },
     "execution_count": 42,
     "metadata": {},
     "output_type": "execute_result"
    }
   ],
   "source": [
    "x = np.array([[[0, 1], [2, 3]], [[4, 5], [6,7]]])\n",
    "x"
   ]
  },
  {
   "cell_type": "code",
   "execution_count": 43,
   "id": "rising-conservative",
   "metadata": {},
   "outputs": [
    {
     "data": {
      "text/plain": [
       "array([[[0, 4],\n",
       "        [2, 6]],\n",
       "\n",
       "       [[1, 5],\n",
       "        [3, 7]]])"
      ]
     },
     "execution_count": 43,
     "metadata": {},
     "output_type": "execute_result"
    }
   ],
   "source": [
    "np.swapaxes(x, 0, 2)"
   ]
  },
  {
   "cell_type": "code",
   "execution_count": 48,
   "id": "fancy-general",
   "metadata": {},
   "outputs": [
    {
     "name": "stdout",
     "output_type": "stream",
     "text": [
      "[0 1]\n",
      "[0 4]\n",
      "[2 3]\n",
      "[2 6]\n"
     ]
    }
   ],
   "source": [
    "print(x[0, 0, :])\n",
    "print(x[:, 0, 0])\n",
    "print(x[0, 1, :])\n",
    "print(x[:, 1, 0])"
   ]
  },
  {
   "cell_type": "markdown",
   "id": "bulgarian-landscape",
   "metadata": {},
   "source": [
    "<b>transpose(a, axes=None)</b>: Reserve or permute the axes of an array<br>\n",
    "Returns the <b>modified array</b>"
   ]
  },
  {
   "cell_type": "code",
   "execution_count": 37,
   "id": "persistent-skill",
   "metadata": {},
   "outputs": [
    {
     "data": {
      "text/plain": [
       "array([[0, 1],\n",
       "       [2, 3]])"
      ]
     },
     "execution_count": 37,
     "metadata": {},
     "output_type": "execute_result"
    }
   ],
   "source": [
    "x = np.arange(4).reshape((2,2))\n",
    "x"
   ]
  },
  {
   "cell_type": "code",
   "execution_count": 38,
   "id": "double-kitchen",
   "metadata": {},
   "outputs": [
    {
     "data": {
      "text/plain": [
       "array([[0, 2],\n",
       "       [1, 3]])"
      ]
     },
     "execution_count": 38,
     "metadata": {},
     "output_type": "execute_result"
    }
   ],
   "source": [
    "np.transpose(x)"
   ]
  },
  {
   "cell_type": "code",
   "execution_count": 39,
   "id": "sophisticated-genetics",
   "metadata": {},
   "outputs": [
    {
     "data": {
      "text/plain": [
       "(2, 1, 3)"
      ]
     },
     "execution_count": 39,
     "metadata": {},
     "output_type": "execute_result"
    }
   ],
   "source": [
    "x = np.ones((1, 2, 3))\n",
    "np.transpose(x, (1, 0, 2)).shape"
   ]
  },
  {
   "cell_type": "code",
   "execution_count": 40,
   "id": "written-henry",
   "metadata": {},
   "outputs": [
    {
     "data": {
      "text/plain": [
       "(5, 4, 3, 2)"
      ]
     },
     "execution_count": 40,
     "metadata": {},
     "output_type": "execute_result"
    }
   ],
   "source": [
    "x = np.ones((2, 3, 4, 5))\n",
    "np.transpose(x).shape"
   ]
  },
  {
   "cell_type": "code",
   "execution_count": null,
   "id": "forced-virginia",
   "metadata": {},
   "outputs": [],
   "source": []
  }
 ],
 "metadata": {
  "kernelspec": {
   "display_name": "Python 3",
   "language": "python",
   "name": "python3"
  },
  "language_info": {
   "codemirror_mode": {
    "name": "ipython",
    "version": 3
   },
   "file_extension": ".py",
   "mimetype": "text/x-python",
   "name": "python",
   "nbconvert_exporter": "python",
   "pygments_lexer": "ipython3",
   "version": "3.7.9"
  }
 },
 "nbformat": 4,
 "nbformat_minor": 5
}
