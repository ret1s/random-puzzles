{
 "cells": [
  {
   "cell_type": "code",
   "execution_count": 2,
   "id": "contrary-nirvana",
   "metadata": {},
   "outputs": [],
   "source": [
    "import numpy as np"
   ]
  },
  {
   "cell_type": "markdown",
   "id": "instant-montgomery",
   "metadata": {},
   "source": [
    "# Operation"
   ]
  },
  {
   "cell_type": "markdown",
   "id": "middle-distribution",
   "metadata": {},
   "source": [
    "## Arithmetic operations\n",
    "https://numpy.org/doc/stable/reference/routines.math.html"
   ]
  },
  {
   "cell_type": "markdown",
   "id": "original-transport",
   "metadata": {},
   "source": [
    "<b>add(x1, x2)</b>"
   ]
  },
  {
   "cell_type": "code",
   "execution_count": 3,
   "id": "direct-defeat",
   "metadata": {},
   "outputs": [
    {
     "data": {
      "text/plain": [
       "5.0"
      ]
     },
     "execution_count": 3,
     "metadata": {},
     "output_type": "execute_result"
    }
   ],
   "source": [
    "np.add(1.0, 4.0)"
   ]
  },
  {
   "cell_type": "code",
   "execution_count": 4,
   "id": "synthetic-folks",
   "metadata": {},
   "outputs": [
    {
     "data": {
      "text/plain": [
       "array([[ 0.,  2.,  4.],\n",
       "       [ 3.,  5.,  7.],\n",
       "       [ 6.,  8., 10.]])"
      ]
     },
     "execution_count": 4,
     "metadata": {},
     "output_type": "execute_result"
    }
   ],
   "source": [
    "x1 = np.arange(9.0).reshape((3, 3))\n",
    "x2 = np.arange(3.0)\n",
    "np.add(x1, x2)"
   ]
  },
  {
   "cell_type": "code",
   "execution_count": 5,
   "id": "handmade-brush",
   "metadata": {},
   "outputs": [
    {
     "data": {
      "text/plain": [
       "array([[ 0.,  2.,  4.],\n",
       "       [ 3.,  5.,  7.],\n",
       "       [ 6.,  8., 10.]])"
      ]
     },
     "execution_count": 5,
     "metadata": {},
     "output_type": "execute_result"
    }
   ],
   "source": [
    "x1 + x2"
   ]
  },
  {
   "cell_type": "markdown",
   "id": "acute-philip",
   "metadata": {},
   "source": [
    "<b>subtract(x1, x2)</b>"
   ]
  },
  {
   "cell_type": "code",
   "execution_count": 6,
   "id": "missing-aurora",
   "metadata": {},
   "outputs": [
    {
     "data": {
      "text/plain": [
       "-3.0"
      ]
     },
     "execution_count": 6,
     "metadata": {},
     "output_type": "execute_result"
    }
   ],
   "source": [
    "np.subtract(1.0, 4.0)"
   ]
  },
  {
   "cell_type": "code",
   "execution_count": 7,
   "id": "closing-crown",
   "metadata": {},
   "outputs": [
    {
     "data": {
      "text/plain": [
       "array([[0., 0., 0.],\n",
       "       [3., 3., 3.],\n",
       "       [6., 6., 6.]])"
      ]
     },
     "execution_count": 7,
     "metadata": {},
     "output_type": "execute_result"
    }
   ],
   "source": [
    "x1 = np.arange(9.0).reshape((3, 3))\n",
    "x2 = np.arange(3.0)\n",
    "np.subtract(x1, x2)"
   ]
  },
  {
   "cell_type": "code",
   "execution_count": 8,
   "id": "adjacent-criminal",
   "metadata": {},
   "outputs": [
    {
     "data": {
      "text/plain": [
       "array([[0., 0., 0.],\n",
       "       [3., 3., 3.],\n",
       "       [6., 6., 6.]])"
      ]
     },
     "execution_count": 8,
     "metadata": {},
     "output_type": "execute_result"
    }
   ],
   "source": [
    "x1 - x2"
   ]
  },
  {
   "cell_type": "markdown",
   "id": "judicial-republican",
   "metadata": {},
   "source": [
    "<b>multiply(x1, x2)</b>"
   ]
  },
  {
   "cell_type": "code",
   "execution_count": 9,
   "id": "eleven-quebec",
   "metadata": {},
   "outputs": [
    {
     "data": {
      "text/plain": [
       "8.0"
      ]
     },
     "execution_count": 9,
     "metadata": {},
     "output_type": "execute_result"
    }
   ],
   "source": [
    "np.multiply(2.0, 4.0)"
   ]
  },
  {
   "cell_type": "code",
   "execution_count": 10,
   "id": "understanding-thumb",
   "metadata": {},
   "outputs": [
    {
     "data": {
      "text/plain": [
       "array([[ 0.,  1.,  4.],\n",
       "       [ 0.,  4., 10.],\n",
       "       [ 0.,  7., 16.]])"
      ]
     },
     "execution_count": 10,
     "metadata": {},
     "output_type": "execute_result"
    }
   ],
   "source": [
    "x1 = np.arange(9.0).reshape((3, 3))\n",
    "x2 = np.arange(3.0)\n",
    "np.multiply(x1, x2)"
   ]
  },
  {
   "cell_type": "code",
   "execution_count": 11,
   "id": "abroad-smell",
   "metadata": {},
   "outputs": [
    {
     "data": {
      "text/plain": [
       "array([[ 0.,  2.,  4.],\n",
       "       [ 6.,  8., 10.],\n",
       "       [12., 14., 16.]])"
      ]
     },
     "execution_count": 11,
     "metadata": {},
     "output_type": "execute_result"
    }
   ],
   "source": [
    "np.multiply(x1, 2)"
   ]
  },
  {
   "cell_type": "code",
   "execution_count": 12,
   "id": "resistant-sight",
   "metadata": {},
   "outputs": [
    {
     "data": {
      "text/plain": [
       "array([[ 0.,  1.,  4.],\n",
       "       [ 0.,  4., 10.],\n",
       "       [ 0.,  7., 16.]])"
      ]
     },
     "execution_count": 12,
     "metadata": {},
     "output_type": "execute_result"
    }
   ],
   "source": [
    "x1 * x2"
   ]
  },
  {
   "cell_type": "markdown",
   "id": "martial-magic",
   "metadata": {},
   "source": [
    "<b>divide(x1, x2)</b>"
   ]
  },
  {
   "cell_type": "code",
   "execution_count": 13,
   "id": "wicked-variety",
   "metadata": {},
   "outputs": [
    {
     "data": {
      "text/plain": [
       "0.5"
      ]
     },
     "execution_count": 13,
     "metadata": {},
     "output_type": "execute_result"
    }
   ],
   "source": [
    "np.divide(2.0, 4.0)"
   ]
  },
  {
   "cell_type": "code",
   "execution_count": 18,
   "id": "outer-essex",
   "metadata": {},
   "outputs": [
    {
     "name": "stderr",
     "output_type": "stream",
     "text": [
      "C:\\Users\\pc\\.conda\\envs\\python37\\lib\\site-packages\\ipykernel_launcher.py:1: RuntimeWarning: divide by zero encountered in true_divide\n",
      "  \"\"\"Entry point for launching an IPython kernel.\n"
     ]
    },
    {
     "data": {
      "text/plain": [
       "inf"
      ]
     },
     "execution_count": 18,
     "metadata": {},
     "output_type": "execute_result"
    }
   ],
   "source": [
    "np.divide(2.0, 0)"
   ]
  },
  {
   "cell_type": "code",
   "execution_count": 23,
   "id": "comparable-avatar",
   "metadata": {},
   "outputs": [
    {
     "data": {
      "text/plain": [
       "array([[1.        , 0.5       , 0.33333333],\n",
       "       [1.        , 0.5       , 0.33333333],\n",
       "       [1.        , 0.5       , 0.33333333]])"
      ]
     },
     "execution_count": 23,
     "metadata": {},
     "output_type": "execute_result"
    }
   ],
   "source": [
    "x1 = np.ones((3, 3))\n",
    "x2 = np.arange(3.0) + 1\n",
    "np.divide(x1, x2)"
   ]
  },
  {
   "cell_type": "markdown",
   "id": "genetic-edmonton",
   "metadata": {},
   "source": [
    "<b>reciprocal(x)</b>"
   ]
  },
  {
   "cell_type": "code",
   "execution_count": 24,
   "id": "renewable-camel",
   "metadata": {},
   "outputs": [
    {
     "data": {
      "text/plain": [
       "0.5"
      ]
     },
     "execution_count": 24,
     "metadata": {},
     "output_type": "execute_result"
    }
   ],
   "source": [
    "np.reciprocal(2.)"
   ]
  },
  {
   "cell_type": "code",
   "execution_count": 26,
   "id": "skilled-semiconductor",
   "metadata": {},
   "outputs": [
    {
     "data": {
      "text/plain": [
       "array([1.       , 0.5      , 0.3003003])"
      ]
     },
     "execution_count": 26,
     "metadata": {},
     "output_type": "execute_result"
    }
   ],
   "source": [
    "np.reciprocal([1, 2, 3.33])"
   ]
  },
  {
   "cell_type": "markdown",
   "id": "loose-afghanistan",
   "metadata": {},
   "source": [
    "<b>power(x1, x2)</b>"
   ]
  },
  {
   "cell_type": "code",
   "execution_count": 27,
   "id": "opposite-mexican",
   "metadata": {},
   "outputs": [
    {
     "data": {
      "text/plain": [
       "array([0, 1, 2, 3, 4, 5])"
      ]
     },
     "execution_count": 27,
     "metadata": {},
     "output_type": "execute_result"
    }
   ],
   "source": [
    "x1 = np.arange(6)\n",
    "x1"
   ]
  },
  {
   "cell_type": "code",
   "execution_count": 28,
   "id": "peaceful-tuning",
   "metadata": {},
   "outputs": [
    {
     "data": {
      "text/plain": [
       "array([  0,   1,   8,  27,  64, 125], dtype=int32)"
      ]
     },
     "execution_count": 28,
     "metadata": {},
     "output_type": "execute_result"
    }
   ],
   "source": [
    "np.power(x1, 3)"
   ]
  },
  {
   "cell_type": "code",
   "execution_count": 31,
   "id": "comparable-newfoundland",
   "metadata": {},
   "outputs": [
    {
     "data": {
      "text/plain": [
       "array([ 0.,  1.,  8., 27., 16.,  5.])"
      ]
     },
     "execution_count": 31,
     "metadata": {},
     "output_type": "execute_result"
    }
   ],
   "source": [
    "x2 = [1.0, 2.0, 3.0, 3, 2, 1]\n",
    "np.power(x1, x2)"
   ]
  },
  {
   "cell_type": "code",
   "execution_count": 32,
   "id": "lucky-finger",
   "metadata": {},
   "outputs": [
    {
     "ename": "ValueError",
     "evalue": "operands could not be broadcast together with shapes (6,) (2,) ",
     "output_type": "error",
     "traceback": [
      "\u001b[1;31m---------------------------------------------------------------------------\u001b[0m",
      "\u001b[1;31mValueError\u001b[0m                                Traceback (most recent call last)",
      "\u001b[1;32m<ipython-input-32-de6c061ada9e>\u001b[0m in \u001b[0;36m<module>\u001b[1;34m\u001b[0m\n\u001b[1;32m----> 1\u001b[1;33m \u001b[0mnp\u001b[0m\u001b[1;33m.\u001b[0m\u001b[0mpower\u001b[0m\u001b[1;33m(\u001b[0m\u001b[0mx1\u001b[0m\u001b[1;33m,\u001b[0m \u001b[1;33m[\u001b[0m\u001b[1;36m1\u001b[0m\u001b[1;33m,\u001b[0m \u001b[1;36m2\u001b[0m\u001b[1;33m]\u001b[0m\u001b[1;33m)\u001b[0m\u001b[1;33m\u001b[0m\u001b[1;33m\u001b[0m\u001b[0m\n\u001b[0m",
      "\u001b[1;31mValueError\u001b[0m: operands could not be broadcast together with shapes (6,) (2,) "
     ]
    }
   ],
   "source": [
    "np.power(x1, [1, 2])"
   ]
  },
  {
   "cell_type": "code",
   "execution_count": 34,
   "id": "equivalent-tumor",
   "metadata": {},
   "outputs": [
    {
     "data": {
      "text/plain": [
       "array([[ 0,  1,  8, 27, 16,  5],\n",
       "       [ 0,  1,  8, 27, 16, 25]], dtype=int32)"
      ]
     },
     "execution_count": 34,
     "metadata": {},
     "output_type": "execute_result"
    }
   ],
   "source": [
    "x2 = np.array([[1, 2, 3, 3, 2, 1], [1, 2, 3, 3, 2, 2]])\n",
    "x1 ** x2"
   ]
  },
  {
   "cell_type": "markdown",
   "id": "younger-notion",
   "metadata": {},
   "source": [
    "<b>mod(x1, x2)</b> is equivalent to <b>remainder(x1, x2)</b>"
   ]
  },
  {
   "cell_type": "code",
   "execution_count": 35,
   "id": "convinced-domain",
   "metadata": {},
   "outputs": [
    {
     "data": {
      "text/plain": [
       "array([0, 1], dtype=int32)"
      ]
     },
     "execution_count": 35,
     "metadata": {},
     "output_type": "execute_result"
    }
   ],
   "source": [
    "np.remainder([4, 7], [2, 3])"
   ]
  },
  {
   "cell_type": "code",
   "execution_count": 36,
   "id": "seventh-store",
   "metadata": {},
   "outputs": [
    {
     "data": {
      "text/plain": [
       "array([0, 1, 2, 3, 4, 0, 1], dtype=int32)"
      ]
     },
     "execution_count": 36,
     "metadata": {},
     "output_type": "execute_result"
    }
   ],
   "source": [
    "np.remainder(np.arange(7), 5)"
   ]
  },
  {
   "cell_type": "code",
   "execution_count": 37,
   "id": "engaging-forty",
   "metadata": {},
   "outputs": [
    {
     "data": {
      "text/plain": [
       "array([0, 1, 2, 3, 4, 0, 1], dtype=int32)"
      ]
     },
     "execution_count": 37,
     "metadata": {},
     "output_type": "execute_result"
    }
   ],
   "source": [
    "np.arange(7) % 5"
   ]
  },
  {
   "cell_type": "markdown",
   "id": "compressed-tribe",
   "metadata": {},
   "source": [
    "## Logic functions\n",
    "https://numpy.org/doc/stable/reference/routines.logic.html"
   ]
  },
  {
   "cell_type": "markdown",
   "id": "satellite-steel",
   "metadata": {},
   "source": [
    "###  Truth value testing"
   ]
  },
  {
   "cell_type": "markdown",
   "id": "excessive-banner",
   "metadata": {},
   "source": [
    "<b>all(a, axis=None)</b>: Test whether all array elements along a given evaluate to True\n",
    "Not a Number (NaN), positive infinity and negative infinity evaluate to True"
   ]
  },
  {
   "cell_type": "code",
   "execution_count": 38,
   "id": "nutritional-particular",
   "metadata": {},
   "outputs": [
    {
     "data": {
      "text/plain": [
       "False"
      ]
     },
     "execution_count": 38,
     "metadata": {},
     "output_type": "execute_result"
    }
   ],
   "source": [
    "np.all([[True, True], [True, False]])"
   ]
  },
  {
   "cell_type": "code",
   "execution_count": 40,
   "id": "dying-antique",
   "metadata": {},
   "outputs": [
    {
     "data": {
      "text/plain": [
       "array([ True, False])"
      ]
     },
     "execution_count": 40,
     "metadata": {},
     "output_type": "execute_result"
    }
   ],
   "source": [
    "np.all([[True, True], [True, False]], axis=0)"
   ]
  },
  {
   "cell_type": "code",
   "execution_count": 41,
   "id": "curious-crossing",
   "metadata": {},
   "outputs": [
    {
     "data": {
      "text/plain": [
       "array([ True, False])"
      ]
     },
     "execution_count": 41,
     "metadata": {},
     "output_type": "execute_result"
    }
   ],
   "source": [
    "np.all([[True, True], [True, False]], axis=1)"
   ]
  },
  {
   "cell_type": "code",
   "execution_count": 42,
   "id": "alert-philosophy",
   "metadata": {},
   "outputs": [
    {
     "data": {
      "text/plain": [
       "True"
      ]
     },
     "execution_count": 42,
     "metadata": {},
     "output_type": "execute_result"
    }
   ],
   "source": [
    "np.all([-1, 4, 5])"
   ]
  },
  {
   "cell_type": "code",
   "execution_count": 43,
   "id": "searching-nevada",
   "metadata": {},
   "outputs": [
    {
     "data": {
      "text/plain": [
       "True"
      ]
     },
     "execution_count": 43,
     "metadata": {},
     "output_type": "execute_result"
    }
   ],
   "source": [
    "np.all([1.0, np.nan])"
   ]
  },
  {
   "cell_type": "markdown",
   "id": "incident-attempt",
   "metadata": {},
   "source": [
    "<b>any(a, axis=None)</b>"
   ]
  },
  {
   "cell_type": "code",
   "execution_count": 45,
   "id": "legitimate-frame",
   "metadata": {},
   "outputs": [
    {
     "data": {
      "text/plain": [
       "True"
      ]
     },
     "execution_count": 45,
     "metadata": {},
     "output_type": "execute_result"
    }
   ],
   "source": [
    "np.any([[True, False], [True, True]])"
   ]
  },
  {
   "cell_type": "code",
   "execution_count": 46,
   "id": "provincial-compromise",
   "metadata": {},
   "outputs": [
    {
     "data": {
      "text/plain": [
       "array([ True, False])"
      ]
     },
     "execution_count": 46,
     "metadata": {},
     "output_type": "execute_result"
    }
   ],
   "source": [
    "np.any([[True, False], [False, False]], axis=0)"
   ]
  },
  {
   "cell_type": "code",
   "execution_count": 47,
   "id": "systematic-wages",
   "metadata": {},
   "outputs": [
    {
     "data": {
      "text/plain": [
       "True"
      ]
     },
     "execution_count": 47,
     "metadata": {},
     "output_type": "execute_result"
    }
   ],
   "source": [
    "np.any(np.nan)"
   ]
  },
  {
   "cell_type": "code",
   "execution_count": 48,
   "id": "altered-tunnel",
   "metadata": {},
   "outputs": [
    {
     "data": {
      "text/plain": [
       "True"
      ]
     },
     "execution_count": 48,
     "metadata": {},
     "output_type": "execute_result"
    }
   ],
   "source": [
    "np.any([-1, 0, 5])"
   ]
  },
  {
   "cell_type": "markdown",
   "id": "eight-audio",
   "metadata": {},
   "source": [
    "### Array contents"
   ]
  },
  {
   "cell_type": "markdown",
   "id": "dedicated-struggle",
   "metadata": {},
   "source": [
    "<b>isfinite(x)</b>"
   ]
  },
  {
   "cell_type": "code",
   "execution_count": 49,
   "id": "close-oakland",
   "metadata": {},
   "outputs": [
    {
     "data": {
      "text/plain": [
       "True"
      ]
     },
     "execution_count": 49,
     "metadata": {},
     "output_type": "execute_result"
    }
   ],
   "source": [
    "np.isfinite(1)"
   ]
  },
  {
   "cell_type": "code",
   "execution_count": 50,
   "id": "sporting-spank",
   "metadata": {},
   "outputs": [
    {
     "data": {
      "text/plain": [
       "True"
      ]
     },
     "execution_count": 50,
     "metadata": {},
     "output_type": "execute_result"
    }
   ],
   "source": [
    "np.isfinite(0)"
   ]
  },
  {
   "cell_type": "code",
   "execution_count": 51,
   "id": "indirect-april",
   "metadata": {},
   "outputs": [
    {
     "data": {
      "text/plain": [
       "False"
      ]
     },
     "execution_count": 51,
     "metadata": {},
     "output_type": "execute_result"
    }
   ],
   "source": [
    "np.isfinite(np.nan)"
   ]
  },
  {
   "cell_type": "code",
   "execution_count": 52,
   "id": "global-investor",
   "metadata": {},
   "outputs": [
    {
     "data": {
      "text/plain": [
       "False"
      ]
     },
     "execution_count": 52,
     "metadata": {},
     "output_type": "execute_result"
    }
   ],
   "source": [
    "np.isfinite(np.inf)"
   ]
  },
  {
   "cell_type": "code",
   "execution_count": 53,
   "id": "earlier-inspiration",
   "metadata": {},
   "outputs": [
    {
     "data": {
      "text/plain": [
       "False"
      ]
     },
     "execution_count": 53,
     "metadata": {},
     "output_type": "execute_result"
    }
   ],
   "source": [
    "np.isfinite(np.NINF)"
   ]
  },
  {
   "cell_type": "code",
   "execution_count": 55,
   "id": "orange-retirement",
   "metadata": {},
   "outputs": [
    {
     "name": "stderr",
     "output_type": "stream",
     "text": [
      "C:\\Users\\pc\\.conda\\envs\\python37\\lib\\site-packages\\ipykernel_launcher.py:1: RuntimeWarning: invalid value encountered in log\n",
      "  \"\"\"Entry point for launching an IPython kernel.\n",
      "C:\\Users\\pc\\.conda\\envs\\python37\\lib\\site-packages\\ipykernel_launcher.py:1: RuntimeWarning: divide by zero encountered in log\n",
      "  \"\"\"Entry point for launching an IPython kernel.\n"
     ]
    },
    {
     "data": {
      "text/plain": [
       "array([False,  True, False])"
      ]
     },
     "execution_count": 55,
     "metadata": {},
     "output_type": "execute_result"
    }
   ],
   "source": [
    "np.isfinite([np.log(-1.), 1, np.log(0)])"
   ]
  },
  {
   "cell_type": "code",
   "execution_count": 58,
   "id": "acceptable-fireplace",
   "metadata": {},
   "outputs": [
    {
     "data": {
      "text/plain": [
       "array([0, 1, 0])"
      ]
     },
     "execution_count": 58,
     "metadata": {},
     "output_type": "execute_result"
    }
   ],
   "source": [
    "x = np.array([-np.inf, 0, np.inf])\n",
    "y = np.array([2, 2, 2])\n",
    "np.isfinite(x, y) # y  keeps the result"
   ]
  },
  {
   "cell_type": "code",
   "execution_count": 59,
   "id": "welsh-mortgage",
   "metadata": {},
   "outputs": [
    {
     "data": {
      "text/plain": [
       "array([0, 1, 0])"
      ]
     },
     "execution_count": 59,
     "metadata": {},
     "output_type": "execute_result"
    }
   ],
   "source": [
    "y"
   ]
  },
  {
   "cell_type": "markdown",
   "id": "brown-founder",
   "metadata": {},
   "source": [
    "<b>isinf(x)</b><br>\n",
    "<b>isnan(x)</b><br>\n",
    "<b>isnat(x)</b><br>\n",
    "<b>isneginf(x)</b><br>\n",
    "<b>isposinf(x)</b><Br>"
   ]
  },
  {
   "cell_type": "code",
   "execution_count": 60,
   "id": "naughty-spencer",
   "metadata": {},
   "outputs": [
    {
     "data": {
      "text/plain": [
       "True"
      ]
     },
     "execution_count": 60,
     "metadata": {},
     "output_type": "execute_result"
    }
   ],
   "source": [
    "np.isnat(np.datetime64(\"NaT\"))"
   ]
  },
  {
   "cell_type": "code",
   "execution_count": 62,
   "id": "separated-columbus",
   "metadata": {},
   "outputs": [
    {
     "data": {
      "text/plain": [
       "False"
      ]
     },
     "execution_count": 62,
     "metadata": {},
     "output_type": "execute_result"
    }
   ],
   "source": [
    "np.isnat(np.datetime64(\"2020-03-19\"))"
   ]
  },
  {
   "cell_type": "code",
   "execution_count": 63,
   "id": "thermal-reduction",
   "metadata": {},
   "outputs": [
    {
     "data": {
      "text/plain": [
       "array([ True, False])"
      ]
     },
     "execution_count": 63,
     "metadata": {},
     "output_type": "execute_result"
    }
   ],
   "source": [
    "np.isnat(np.array([\"Nat\", \"2020-03-19\"], dtype=\"datetime64[ns]\"))"
   ]
  },
  {
   "cell_type": "markdown",
   "id": "friendly-dinner",
   "metadata": {},
   "source": [
    "### Logical operations"
   ]
  },
  {
   "cell_type": "markdown",
   "id": "metropolitan-swiss",
   "metadata": {},
   "source": [
    "<b>logical_and(x1, x2)</b>"
   ]
  },
  {
   "cell_type": "code",
   "execution_count": 64,
   "id": "processed-monaco",
   "metadata": {},
   "outputs": [
    {
     "data": {
      "text/plain": [
       "array([False, False])"
      ]
     },
     "execution_count": 64,
     "metadata": {},
     "output_type": "execute_result"
    }
   ],
   "source": [
    "a = np.array([True, False])\n",
    "b = np.array([False, False])\n",
    "a & b"
   ]
  },
  {
   "cell_type": "code",
   "execution_count": 65,
   "id": "appointed-smart",
   "metadata": {},
   "outputs": [
    {
     "data": {
      "text/plain": [
       "array([False, False])"
      ]
     },
     "execution_count": 65,
     "metadata": {},
     "output_type": "execute_result"
    }
   ],
   "source": [
    "np.logical_and(a, b)"
   ]
  },
  {
   "cell_type": "markdown",
   "id": "french-chaos",
   "metadata": {},
   "source": [
    "<b>logical_or(x1, x2)</b>"
   ]
  },
  {
   "cell_type": "code",
   "execution_count": 66,
   "id": "fiscal-street",
   "metadata": {},
   "outputs": [
    {
     "data": {
      "text/plain": [
       "array([ True, False])"
      ]
     },
     "execution_count": 66,
     "metadata": {},
     "output_type": "execute_result"
    }
   ],
   "source": [
    "a = np.array([True, False])\n",
    "b = np.array([False, False])\n",
    "a | b"
   ]
  },
  {
   "cell_type": "code",
   "execution_count": 67,
   "id": "eight-column",
   "metadata": {},
   "outputs": [
    {
     "data": {
      "text/plain": [
       "array([ True, False])"
      ]
     },
     "execution_count": 67,
     "metadata": {},
     "output_type": "execute_result"
    }
   ],
   "source": [
    "np.logical_or(a, b)"
   ]
  },
  {
   "cell_type": "markdown",
   "id": "million-telling",
   "metadata": {},
   "source": [
    "<b>logical_not(x)</b>"
   ]
  },
  {
   "cell_type": "code",
   "execution_count": 68,
   "id": "bridal-joint",
   "metadata": {},
   "outputs": [
    {
     "data": {
      "text/plain": [
       "False"
      ]
     },
     "execution_count": 68,
     "metadata": {},
     "output_type": "execute_result"
    }
   ],
   "source": [
    "np.logical_not(3)"
   ]
  },
  {
   "cell_type": "code",
   "execution_count": 69,
   "id": "surprised-remainder",
   "metadata": {},
   "outputs": [
    {
     "data": {
      "text/plain": [
       "array([False,  True,  True, False])"
      ]
     },
     "execution_count": 69,
     "metadata": {},
     "output_type": "execute_result"
    }
   ],
   "source": [
    "np.logical_not([True, False, 0, 1])"
   ]
  },
  {
   "cell_type": "code",
   "execution_count": 70,
   "id": "thousand-return",
   "metadata": {},
   "outputs": [
    {
     "data": {
      "text/plain": [
       "array([False, False, False,  True,  True])"
      ]
     },
     "execution_count": 70,
     "metadata": {},
     "output_type": "execute_result"
    }
   ],
   "source": [
    "x = np.arange(5)\n",
    "np.logical_not(x<3)"
   ]
  },
  {
   "cell_type": "markdown",
   "id": "meaningful-nylon",
   "metadata": {},
   "source": [
    "<b>logical_xor(x1, x2)</b>"
   ]
  },
  {
   "cell_type": "code",
   "execution_count": 73,
   "id": "reverse-event",
   "metadata": {},
   "outputs": [
    {
     "data": {
      "text/plain": [
       "array([False,  True,  True, False])"
      ]
     },
     "execution_count": 73,
     "metadata": {},
     "output_type": "execute_result"
    }
   ],
   "source": [
    "np.logical_xor([True, True, False, False], [True, False, True, False])"
   ]
  },
  {
   "cell_type": "code",
   "execution_count": 74,
   "id": "unable-challenge",
   "metadata": {},
   "outputs": [
    {
     "data": {
      "text/plain": [
       "array([ True, False, False, False,  True])"
      ]
     },
     "execution_count": 74,
     "metadata": {},
     "output_type": "execute_result"
    }
   ],
   "source": [
    "x = np.arange(5)\n",
    "np.logical_xor(x < 1, x > 3)"
   ]
  },
  {
   "cell_type": "markdown",
   "id": "drawn-sheep",
   "metadata": {},
   "source": [
    "### Comparision operations"
   ]
  },
  {
   "cell_type": "markdown",
   "id": "focal-dallas",
   "metadata": {},
   "source": [
    "<b>greater(x1, x2)</b>: x1 > x2"
   ]
  },
  {
   "cell_type": "markdown",
   "id": "bronze-saturday",
   "metadata": {},
   "source": [
    "<b>greater_equal(x1, x2)</b>: x1 >= x2"
   ]
  },
  {
   "cell_type": "markdown",
   "id": "hydraulic-costume",
   "metadata": {},
   "source": [
    "<b>less(x1, x2)</b>: x1 < x2"
   ]
  },
  {
   "cell_type": "markdown",
   "id": "suburban-illness",
   "metadata": {},
   "source": [
    "<b>less_equal(x1, x2)</b>: x1 <= x2"
   ]
  },
  {
   "cell_type": "markdown",
   "id": "prompt-committee",
   "metadata": {},
   "source": [
    "<b>equal(x1, x2)</b>: x1 == x2"
   ]
  },
  {
   "cell_type": "markdown",
   "id": "immune-cemetery",
   "metadata": {},
   "source": [
    "<b>not_equal(x1, x2)</b>: x1 != x2"
   ]
  },
  {
   "cell_type": "code",
   "execution_count": null,
   "id": "minimal-antibody",
   "metadata": {},
   "outputs": [],
   "source": []
  }
 ],
 "metadata": {
  "kernelspec": {
   "display_name": "Python 3",
   "language": "python",
   "name": "python3"
  },
  "language_info": {
   "codemirror_mode": {
    "name": "ipython",
    "version": 3
   },
   "file_extension": ".py",
   "mimetype": "text/x-python",
   "name": "python",
   "nbconvert_exporter": "python",
   "pygments_lexer": "ipython3",
   "version": "3.7.9"
  }
 },
 "nbformat": 4,
 "nbformat_minor": 5
}
