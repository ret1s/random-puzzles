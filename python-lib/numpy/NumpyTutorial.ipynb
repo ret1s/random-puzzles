{
  "nbformat": 4,
  "nbformat_minor": 0,
  "metadata": {
    "colab": {
      "name": "NumpyTutorial.ipynb",
      "provenance": [],
      "collapsed_sections": [
        "iIuZL61tp1KT",
        "P7B_z0DJp1KW",
        "xkqNzUURp1KY",
        "9IbQcGaCp1Ka",
        "CnXrp9ftWyGt",
        "XrM_IA_FWyGv",
        "2Alhi8GpWyGy",
        "iKCnT2qSW8-4",
        "XFxhmyp-W8-7",
        "dkbtKZsqW8-9",
        "LVEYz1OgW8--",
        "DUaUCjSOW8-_",
        "_xROswIEEzet",
        "rCeOp34_PYTc",
        "lRRL7b8CUy3U",
        "4wksy15uVV4t"
      ],
      "toc_visible": true
    },
    "kernelspec": {
      "name": "python3",
      "display_name": "Python 3"
    }
  },
  "cells": [
    {
      "cell_type": "markdown",
      "metadata": {
        "id": "XiDJZP7mefTf"
      },
      "source": [
        "Nguồn tham khảo:\n",
        "* https://numpy.org/\n",
        "* https://colab.research.google.com/github/jakevdp/PythonDataScienceHandbook/blob/master/notebooks/Index.ipynb"
      ]
    },
    {
      "cell_type": "markdown",
      "metadata": {
        "id": "CcDE6KaK0sxH"
      },
      "source": [
        "# Introduction Numpy"
      ]
    },
    {
      "cell_type": "markdown",
      "metadata": {
        "id": "K-MY6mm1ThOg"
      },
      "source": [
        "## What is Numpy"
      ]
    },
    {
      "cell_type": "markdown",
      "metadata": {
        "id": "nKvsTKJpz_xq"
      },
      "source": [
        "\n",
        "* **Numpy** là một thư viện toán học rất phổ biến và mạnh mẽ của Python. \n",
        "NumPy được trang bị các hàm đã được tối ưu, cho phép làm việc hiệu quả với **mảng đa chiều (ma trận)**, đặc biệt là dữ liệu **mảng đa chiều có kích thước lớn** với **tốc độ xử lý nhanh** hơn nhiều lần khi chỉ sử dụng Python đơn thuần.\n",
        "* Đối tượng chính trong Numpy là mảng đa chiều (multi dimension array) của những phần tử có cùng kiểu dữ liệu (thường là kiểu số)\n",
        "* Trong numpy, dimensions (chiều) còn được gọi là **axes**.\n",
        "* NumPy Array class là ``ndarray``, khác với array của Python. NumpyArray cung cấp nhiều **attributes**, và **hàm** hữu ích trong việc tính toán và thao tác với dữ liệu"
      ]
    },
    {
      "cell_type": "markdown",
      "metadata": {
        "id": "kTYjfYy9S6Tu"
      },
      "source": [
        "## Install and Import Numpy"
      ]
    },
    {
      "cell_type": "markdown",
      "metadata": {
        "id": "G8Y9WPGHTDFM"
      },
      "source": [
        "* Cài đặt Numpy: `pip install numpy`\n",
        "* Cách `import` Numpy:"
      ]
    },
    {
      "cell_type": "code",
      "metadata": {
        "id": "OqGfCBbRTHNm"
      },
      "source": [
        "# np là viết tắt của Numpy để tiện cho việc sử dụng thư viện\n",
        "import numpy as np"
      ],
      "execution_count": null,
      "outputs": []
    },
    {
      "cell_type": "markdown",
      "metadata": {
        "id": "m25g5h17xD_G"
      },
      "source": [
        "# How to create Numpy Array"
      ]
    },
    {
      "cell_type": "markdown",
      "metadata": {
        "id": "Q_mnKE9PyDlh"
      },
      "source": [
        "## Creating Arrays from Python Lists"
      ]
    },
    {
      "cell_type": "markdown",
      "metadata": {
        "id": "coia8gylbTRM"
      },
      "source": [
        "* NumpyArray chứa các elements **cùng kiểu dữ liệu**.\n",
        "* Sử dụng ``np.array`` để tạo 1 NumpyArray từ **List**, **Tuple** hoặc **Range**"
      ]
    },
    {
      "cell_type": "code",
      "metadata": {
        "id": "xcb1Hsjp2wsE",
        "colab": {
          "base_uri": "https://localhost:8080/"
        },
        "outputId": "c8e5db48-c522-4259-9a41-7e1c9abab48b"
      },
      "source": [
        "listA = [1, 2, 3, 4, 5]\n",
        "tupleA = (1, 2, 3)\n",
        "rangeA = range(1,3)\n",
        "\n",
        "# Cách chuyển từ 1 List sang 1 NumpyArray\n",
        "numpyArr = np.array(listA)\n",
        "\n",
        "print(\"listA: \",listA)\n",
        "print(\"Type of listA: \",type(listA))\n",
        "print(\"\\nnumpyArr: \",numpyArr)\n",
        "print(\"Type of numpyArr: \",type(numpyArr))"
      ],
      "execution_count": null,
      "outputs": [
        {
          "output_type": "stream",
          "text": [
            "listA:  [1, 2, 3, 4, 5]\n",
            "Type of listA:  <class 'list'>\n",
            "\n",
            "numpyArr:  [1 2 3 4 5]\n",
            "Type of numpyArr:  <class 'numpy.ndarray'>\n"
          ],
          "name": "stdout"
        }
      ]
    },
    {
      "cell_type": "markdown",
      "metadata": {
        "id": "iFjq-S1s4xmm"
      },
      "source": [
        "\n",
        "* Nếu kiểu dữ liệu của các phần tử không giống nhau, Numpy sẽ **upcast** các phần tử về cùng kiểu dữ liệu\n",
        "\n",
        "\n",
        "\n"
      ]
    },
    {
      "cell_type": "code",
      "metadata": {
        "id": "BUFu6bcm5SRb"
      },
      "source": [
        "# Mảng chứa 3 số nguyên, 1 số thập phân\n",
        "npArr = np.array([1, 2, 3, 4.1])"
      ],
      "execution_count": null,
      "outputs": []
    },
    {
      "cell_type": "markdown",
      "metadata": {
        "id": "oPeBMyUH5b7Q"
      },
      "source": [
        "\n",
        "  * Nếu bạn muốn tạo 1 NumpyArray và set kiểu dữ liệu cho các phần tử trong mảng thì dùng parameter `dtype`\n",
        "\n"
      ]
    },
    {
      "cell_type": "code",
      "metadata": {
        "id": "YBvAyE0R5e47"
      },
      "source": [
        "npArr1 = np.array([1, 2, 3, 4], dtype='float')\n",
        "npArr12 = np.array([1.1, 2.2, 3.3, 4.4], dtype='int')\n",
        "\n",
        "print(npArr1)\n",
        "print(npArr12)"
      ],
      "execution_count": null,
      "outputs": []
    },
    {
      "cell_type": "markdown",
      "metadata": {
        "id": "lmZfpypc5kLr"
      },
      "source": [
        "* Numpy cho phép tạo mảng đa chiều"
      ]
    },
    {
      "cell_type": "code",
      "metadata": {
        "id": "BTbrN7Rq5rsM"
      },
      "source": [
        "L = [[1,2,3],[4,5,6],[7,8,9]]\n",
        "np.array(L)"
      ],
      "execution_count": null,
      "outputs": []
    },
    {
      "cell_type": "markdown",
      "metadata": {
        "id": "2sbaaVcO55Mr"
      },
      "source": [
        "## Creating Arrays from Scratch"
      ]
    },
    {
      "cell_type": "markdown",
      "metadata": {
        "id": "R4YwXVQJ_RiV"
      },
      "source": [
        "* Numpy hỗ trợ chúng ta trong việc tạo những mảng lớn với cú pháp đơn giản thông qua các hàm như: \n",
        " * `zeros(shape, dtype=float)`: tạo mảng với toàn bộ các phần tử là số 0\n",
        " * `ones(shape, dtype=None)`: tạo mảng với toàn bộ các phần tử là số 1\n",
        " * `full(shape,x)`: tạo mảng với toàn bộ phần tử là số `x`\n",
        " * `arange(a,b,step)`: tạo mảng các phần tử theo 1 range `[a,b)` \n",
        " * `linspace(a,b,n)`: tạo 1 mảng `n` phần tử cách đều nhau trong đoạn `[a,b]`\n",
        " * `random`: random 1 ma trận\n",
        " * `eye`: tạo ma trận đơn vị\n",
        " * ..."
      ]
    },
    {
      "cell_type": "code",
      "metadata": {
        "id": "rTWtJbnNyEtw"
      },
      "source": [
        "# Ví dụ 1: Tạo 1 mảng với len = 10, và toàn bộ các phần tử là số nguyên 0\n",
        "# Default datatype của hàm zeros là float\n",
        "np.zeros(10, dtype='int')"
      ],
      "execution_count": null,
      "outputs": []
    },
    {
      "cell_type": "code",
      "metadata": {
        "id": "u7vvc92iyEtw"
      },
      "source": [
        "# Ví dụ 2: Tạo mảng 2 chiều 3x5, toàn bộ các phần tử là số 1.0\n",
        "shape = (3, 5)\n",
        "np.ones(shape, dtype='float')"
      ],
      "execution_count": null,
      "outputs": []
    },
    {
      "cell_type": "code",
      "metadata": {
        "id": "R7LQH9pQyEtw"
      },
      "source": [
        "# Ví dụ 3: Tạo mảng 2 chiều 3x5, toàn bộ các phần tử là số 3.14\n",
        "shape = (3, 5)\n",
        "np.full(shape, 3.14)"
      ],
      "execution_count": null,
      "outputs": []
    },
    {
      "cell_type": "code",
      "metadata": {
        "id": "4n2szqkqyEtw"
      },
      "source": [
        "# Ví dụ 4: Tạo 1 mảng từ [0,20), với step là 2\n",
        "step = 2\n",
        "np.arange(0, 20, step)"
      ],
      "execution_count": null,
      "outputs": []
    },
    {
      "cell_type": "code",
      "metadata": {
        "id": "ZB4CzmIQyEtw"
      },
      "source": [
        "# Ví dụ 5: Tạo 1 array có 5 phần tử chia đều từ [0,1]\n",
        "np.linspace(0, 1, 5)"
      ],
      "execution_count": null,
      "outputs": []
    },
    {
      "cell_type": "code",
      "metadata": {
        "id": "XMQX1s6ZyEtx"
      },
      "source": [
        "# Ví dụ 6: Tạo 1 ma trận 3x3 với các số random trong khoảng [0,10)\n",
        "shape = (3, 3)\n",
        "np.random.randint(0, 10, shape)"
      ],
      "execution_count": null,
      "outputs": []
    },
    {
      "cell_type": "code",
      "metadata": {
        "id": "ea-8b2VIyEtx"
      },
      "source": [
        "# Ví dụ 7: Tạo 1 ma trận đơn vị 3x3\n",
        "np.eye(3,3)"
      ],
      "execution_count": null,
      "outputs": []
    },
    {
      "cell_type": "markdown",
      "metadata": {
        "id": "BnEWbkMcxa3p"
      },
      "source": [
        "# The Basics of NumPy Arrays"
      ]
    },
    {
      "cell_type": "markdown",
      "metadata": {
        "id": "Hqbl8kZZfPw3"
      },
      "source": [
        "Trong phần này chúng ta tìm hiểu:\n",
        "\n",
        "*   Các **thuộc tính cơ bản** của 1 numpy array\n",
        "*   Cách truy xuất **Single Element** của numpy array bằng **Index**\n",
        "*   Cách truy xuất **SubArray** của 1 numpy array bằng **Slicing**\n",
        "*   Cách biến đổi số chiều của 1 numpy array (**Reshape**)\n",
        "*   Cách nối (**concatenation**) và chia (**split**) numpy array.\n"
      ]
    },
    {
      "cell_type": "markdown",
      "metadata": {
        "id": "eC5GUl5ap1KI"
      },
      "source": [
        "## NumPy Array Attributes"
      ]
    },
    {
      "cell_type": "markdown",
      "metadata": {
        "id": "0L1Jefnip1KJ"
      },
      "source": [
        "NumPy Array có nhiều **attributes** khác nhau, trong đó thường được dùng là:\n",
        "* ``ndim``: số chiều của array (number of dimensions)\n",
        "* ``shape``: số lượng phần tử của mỗi chiều (size of each dimension)\n",
        "* ``size``: số lượng phần tử của toàn bộ array (the total size of array)\n",
        "* ``dtype``: type của mỗi phần tử trong array\n",
        "* ``itemsize``: size của mỗi element trong array (đơn **vị** **bytes**)\n",
        "* ``nbytes``: tổng size của toàn bộ array (đơn vị **bytes**)\n",
        "* ..."
      ]
    },
    {
      "cell_type": "code",
      "metadata": {
        "id": "iRPJH8s2p1KI",
        "colab": {
          "base_uri": "https://localhost:8080/"
        },
        "outputId": "fc32255b-b995-4bf1-8224-70308432b55b"
      },
      "source": [
        "# 3-dimensional array\n",
        "x3 = np.random.randint(10, size=(3,4,5))\n",
        "\n",
        "print(\"x3 ndim: \\t\", x3.ndim)\n",
        "print(\"x3 shape: \\t\", x3.shape)\n",
        "print(\"x3 size: \\t\", x3.size)\n",
        "print(\"x3 dtype: \\t\", x3.dtype)\n",
        "print(\"x3 itemsize: \\t\", x3.itemsize, \"(bytes)\")\n",
        "print(\"x3 nbytes: \\t\", x3.nbytes, \"(bytes)\")"
      ],
      "execution_count": null,
      "outputs": [
        {
          "output_type": "stream",
          "text": [
            "x3 ndim: \t 3\n",
            "x3 shape: \t (3, 4, 5)\n",
            "x3 size: \t 60\n",
            "x3 dtype: \t int64\n",
            "x3 itemsize: \t 8 (bytes)\n",
            "x3 nbytes: \t 480 (bytes)\n"
          ],
          "name": "stdout"
        }
      ]
    },
    {
      "cell_type": "markdown",
      "metadata": {
        "id": "dYPMT5awp1KL"
      },
      "source": [
        "## Accessing Single Element In Array"
      ]
    },
    {
      "cell_type": "markdown",
      "metadata": {
        "id": "MS_VzxIJOblJ"
      },
      "source": [
        "Trong phần này ta sẽ tìm hiểu cách truy xuất giá trị của **1 phần tử** trên mảng 1 và 2 chiều của NumpyArray dựa vào **Index**."
      ]
    },
    {
      "cell_type": "code",
      "metadata": {
        "id": "j_aY-Efdp1KM"
      },
      "source": [
        "# Tạo mảng 1 chiều random 6 phần tử\n",
        "x1 = np.random.randint(10, size=6)\n",
        "x1"
      ],
      "execution_count": null,
      "outputs": []
    },
    {
      "cell_type": "code",
      "metadata": {
        "id": "F_HhgmDEPW3C"
      },
      "source": [
        "# Truy xuất giá trị mảng 1 chiều\n",
        "\n",
        "print(\"x1[0] \\t= {}\".format(x1[0]))\n",
        "print(\"x1[1] \\t= {}\".format(x1[1]))\n",
        "print(\"x1[-1] \\t= {}\".format(x1[-1]))\n",
        "print(\"x1[-2] \\t= {}\".format(x1[-2]))"
      ],
      "execution_count": null,
      "outputs": []
    },
    {
      "cell_type": "code",
      "metadata": {
        "id": "caCDRfcRp1KN"
      },
      "source": [
        "# Tạo mảng 2 chiều 3x4\n",
        "x2 = np.random.randint(10, size=(3,4))\n",
        "x2"
      ],
      "execution_count": null,
      "outputs": []
    },
    {
      "cell_type": "code",
      "metadata": {
        "id": "dMKizVf6O9UH"
      },
      "source": [
        "# Truy xuất giá trị của mảng 2 chiều\n",
        "\n",
        "print(\"x2[0][0] \\t= {}\".format(x2[0][0]))\n",
        "print(\"x2[2][0] \\t= {}\".format(x2[2][0]))\n",
        "print(\"x2[2][-1] \\t= {}\".format(x2[2][-1]))"
      ],
      "execution_count": null,
      "outputs": []
    },
    {
      "cell_type": "markdown",
      "metadata": {
        "id": "v5TyZ1U8p1KO"
      },
      "source": [
        "Có thể modify array bằng indexing"
      ]
    },
    {
      "cell_type": "code",
      "metadata": {
        "id": "ca2Reoj2p1KO"
      },
      "source": [
        "x2[0, 0] = 12\n",
        "x2"
      ],
      "execution_count": null,
      "outputs": []
    },
    {
      "cell_type": "markdown",
      "metadata": {
        "id": "uFCWvoXVp1KP"
      },
      "source": [
        "**Chú ý**: Do các phần tử trong Numpy Array có cùng kiểu, nên khi bạn update 1 phần tử `float` vào mảng kiểu `int` thì Numpy sẽ cast nó về kiểu `int`"
      ]
    },
    {
      "cell_type": "code",
      "metadata": {
        "id": "PCPt1s3yp1KP"
      },
      "source": [
        "print(\"Before \\tx1 = {}\".format(x1))\n",
        "x1[0] = 3.14\n",
        "print(\"After \\tx1 = {}\".format(x1))"
      ],
      "execution_count": null,
      "outputs": []
    },
    {
      "cell_type": "markdown",
      "metadata": {
        "id": "NxOHvcKQp1KP"
      },
      "source": [
        "## Array Slicing: Accessing Subarrays"
      ]
    },
    {
      "cell_type": "markdown",
      "metadata": {
        "id": "IrHIlJxfp1KP"
      },
      "source": [
        "Ngoài cách truy xuất từng phần tử, thì giống như List ta có thể subarray bằng Numpy Slicing.\n",
        "Syntax của Numpy Slicing tương tự như List.\n",
        "``` python\n",
        "array[start:stop:step]\n",
        "```\n",
        "Giá trị mặc định là: ``start = 0``, ``stop =``*``size of dimension``*, ``step = 1``.\n",
        "\n",
        "Trong phần này chúng ta sẽ tìm hiểu cách slicing mảng 1 chiều và mảng nhiều chiều."
      ]
    },
    {
      "cell_type": "markdown",
      "metadata": {
        "id": "Tu8iH7tnp1KP"
      },
      "source": [
        "### One-dimensional subarrays"
      ]
    },
    {
      "cell_type": "code",
      "metadata": {
        "id": "e_dH6VEFp1KP",
        "colab": {
          "base_uri": "https://localhost:8080/"
        },
        "outputId": "b3b803eb-828a-444c-a07a-80e000aebc67"
      },
      "source": [
        "x = np.arange(10)\n",
        "x"
      ],
      "execution_count": null,
      "outputs": [
        {
          "output_type": "execute_result",
          "data": {
            "text/plain": [
              "array([0, 1, 2, 3, 4, 5, 6, 7, 8, 9])"
            ]
          },
          "metadata": {
            "tags": []
          },
          "execution_count": 349
        }
      ]
    },
    {
      "cell_type": "code",
      "metadata": {
        "id": "wNE2_VKDp1KQ"
      },
      "source": [
        "print(\"x[:5] \\t= {}\".format(x[:5]))     # [0,5)\n",
        "print(\"x[5:] \\t= {}\".format(x[5:]))     # [5,size)\n",
        "print(\"x[4:7] \\t= {}\".format(x[4:7]))   # [4,7)\n",
        "print(\"x[::2] \\t= {}\".format(x[::2]))   # [0,size) step=2\n",
        "print(\"x[1::2] = {}\".format(x[1::2]))   # [1,size) step=2"
      ],
      "execution_count": null,
      "outputs": []
    },
    {
      "cell_type": "code",
      "metadata": {
        "id": "SN7CaY0Pp1KR"
      },
      "source": [
        "# Reverse 1 array\n",
        "x[::-1]"
      ],
      "execution_count": null,
      "outputs": []
    },
    {
      "cell_type": "markdown",
      "metadata": {
        "id": "k_3_hiLpp1KR"
      },
      "source": [
        "### Multi-dimensional subarrays\n",
        "Slice 1 mảng đa chiều cũng có cơ chế tương tự, nhiều slices sẽ được ngăn cách nhau bởi dấu phẩy"
      ]
    },
    {
      "cell_type": "code",
      "metadata": {
        "id": "9GwIdVnEp1KS"
      },
      "source": [
        "x2 = np.random.randint(10, size=(3,4))\n",
        "print(x2)\n",
        "print(\"\\n x2.shape: \",x2.shape)"
      ],
      "execution_count": null,
      "outputs": []
    },
    {
      "cell_type": "code",
      "metadata": {
        "id": "L-xzmcakp1KS"
      },
      "source": [
        "# VD1: Lấy subArray 2x3\n",
        "\n",
        "# Cách 1:\n",
        "s1 = x2[0:2:1, 0:3:1]\n",
        "\n",
        "# Cách 2:\n",
        "s2 = x2[:2, :3]\n",
        "\n",
        "print(\"s1 = \\n{}\\n\".format(s1))\n",
        "print(\"s2 = \\n{}\".format(s2))"
      ],
      "execution_count": null,
      "outputs": []
    },
    {
      "cell_type": "code",
      "metadata": {
        "id": "c7cLLjGQp1KS"
      },
      "source": [
        "# VD2: Lấy tất cả các hàng, lấy cột chẵn\n",
        "x2[:, ::2]"
      ],
      "execution_count": null,
      "outputs": []
    },
    {
      "cell_type": "code",
      "metadata": {
        "id": "3zSstr9Dp1KS"
      },
      "source": [
        "# VD3: Đảo chiều giá trị hàng, cột của mảng 2 chiều\n",
        "reversedX2 = x2[::-1, ::-1]\n",
        "\n",
        "print(\"{}\\n\".format(x2))\n",
        "print(reversedX2)"
      ],
      "execution_count": null,
      "outputs": []
    },
    {
      "cell_type": "markdown",
      "metadata": {
        "id": "zBcoVqeXp1KS"
      },
      "source": [
        "Cách để truy xuất 1 row hoặc column của 1 array bằng cách kết hợp **indexing** và **slicing**"
      ]
    },
    {
      "cell_type": "code",
      "metadata": {
        "id": "UhlLEt3ijPAD"
      },
      "source": [
        "x2"
      ],
      "execution_count": null,
      "outputs": []
    },
    {
      "cell_type": "code",
      "metadata": {
        "id": "SvicL03vp1KT"
      },
      "source": [
        "# VD4: Truy xuất column 0 bằng cách lấy tất cả các hàng (slicing) + cột 0 (indexing)\n",
        "print(\"Giá trị cột 0: \",x2[:,0])"
      ],
      "execution_count": null,
      "outputs": []
    },
    {
      "cell_type": "code",
      "metadata": {
        "id": "MsSJilvKp1KT"
      },
      "source": [
        "# VD5: Truy xuất row 1 bằng cách lấy hàng 1 (indexing) + tất cả các cột (slicing)\n",
        "print(\"Giá trị hàng 1: \",x2[1,:])"
      ],
      "execution_count": null,
      "outputs": []
    },
    {
      "cell_type": "markdown",
      "metadata": {
        "id": "wq-khOixp1KT"
      },
      "source": [
        "Có thể truy xuất nhanh 1 row bằng cách:"
      ]
    },
    {
      "cell_type": "code",
      "metadata": {
        "id": "LKVzFOikp1KT"
      },
      "source": [
        "print(x2[0])  # equivalent to x2[0,:]\n",
        "print(x2[1])"
      ],
      "execution_count": null,
      "outputs": []
    },
    {
      "cell_type": "markdown",
      "metadata": {
        "id": "iIuZL61tp1KT"
      },
      "source": [
        "### Subarrays as no-copy views"
      ]
    },
    {
      "cell_type": "markdown",
      "metadata": {
        "id": "YczoatdPk6OE"
      },
      "source": [
        "\n",
        "* **Slicing** trong List sẽ trả về giá trị được **copy** data từ Array gốc\n",
        "* **Slicing** trong NumpyArray sẽ trả về giá trị **trỏ trực tiếp** tới vùng nhớ của Array gốc (gọi là **view object**)\n",
        "\n",
        "Do đó, khi chỉnh sửa data trên subArray (slicing  từ List) sẽ không ảnh hưởng đến Array gốc, còn ngược lại chỉnh sửa giá trị trên subArray (slicing từ NumpyArray) sẽ thay đổi trên Array gốc.\n"
      ]
    },
    {
      "cell_type": "code",
      "metadata": {
        "id": "hgEfEKDVkCYT"
      },
      "source": [
        "# Slicing trên List\n",
        "list1 = [1,2,3]\n",
        "subList1 = list1[:2]\n",
        "subList1[0] = 100\n",
        "\n",
        "print(\"List1: \\t \\t\",list1)\n",
        "print(\"SubList1: \\t\",subList1)"
      ],
      "execution_count": null,
      "outputs": []
    },
    {
      "cell_type": "code",
      "metadata": {
        "id": "zt1k-xJ0p1KV"
      },
      "source": [
        "# Slicing trên NumpyArray\n",
        "nArr1 = np.array([1,2,3])\n",
        "subNArr1 = nArr1[:2]\n",
        "subNArr1[0] = 100\n",
        "\n",
        "print(\"nArr1: \\t\\t\",nArr1)\n",
        "print(\"subNArr1: \\t\",subNArr1)"
      ],
      "execution_count": null,
      "outputs": []
    },
    {
      "cell_type": "markdown",
      "metadata": {
        "id": "723egVoEp1KV"
      },
      "source": [
        "**Do đó:** NumpyArray rất hữu ích khi làm việc với dataset lớn, chúng ta có thể truy cập và chỉnh sửa từng phần dữ liệu mà không cần truy cập trên mảng lớn, hoặc không bị copy data gây tốn memory."
      ]
    },
    {
      "cell_type": "markdown",
      "metadata": {
        "id": "M9BiWjqzp1KV"
      },
      "source": [
        "### Creating copies of arrays\n",
        "\n",
        "Với cơ chế đó, Numpy Array cũng support chúng ta cách copy để sử dụng trong 1 số trường hợp cần thiết bằng cách sử dụng hàm `copy()`."
      ]
    },
    {
      "cell_type": "code",
      "metadata": {
        "id": "2nUR8C13p1KV",
        "colab": {
          "base_uri": "https://localhost:8080/"
        },
        "outputId": "083ca2ba-59a3-406f-e9d2-897a14576a5c"
      },
      "source": [
        "subNArr2 = nArr1[:2].copy()\n",
        "subNArr2[0] = 8888\n",
        "\n",
        "print(\"nArr1: \\t\\t\",nArr1)\n",
        "print(\"subNArr2: \\t\",subNArr2)"
      ],
      "execution_count": null,
      "outputs": [
        {
          "output_type": "stream",
          "text": [
            "nArr1: \t\t [100   2   3]\n",
            "subNArr2: \t [8888    2]\n"
          ],
          "name": "stdout"
        }
      ]
    },
    {
      "cell_type": "markdown",
      "metadata": {
        "id": "P7B_z0DJp1KW"
      },
      "source": [
        "## Reshaping of Arrays\n",
        "\n",
        "Một hàm hữu ích khác của Numpy Array là **reshape** 1 mảng.\n",
        "Ví dụ nếu như bạn muốn chỉnh sửa 1 array $9\\times1$ thành $3\\times3$ thì có thể dùng hàm `reshape`.\n",
        "\n",
        "**Lưu ý**: size của array sau khi reshape phải bằng với size của array trước khi reshape"
      ]
    },
    {
      "cell_type": "code",
      "metadata": {
        "id": "ZWJBK9L0p1KW"
      },
      "source": [
        "# VD1: Reshape từ 9x1 thành 3x3\n",
        "arr1 = np.arange(1, 10)\n",
        "grid = arr1.reshape((3, 3))\n",
        "\n",
        "print(\"Before: \\n\",arr1)\n",
        "print(\"\\nAfter: \\n\",grid)"
      ],
      "execution_count": null,
      "outputs": []
    },
    {
      "cell_type": "code",
      "metadata": {
        "id": "CtsjRzhGp1KX"
      },
      "source": [
        "# VD2 :Reshape từ 3x1 thành 1x3\n",
        "x = np.array([1, 2, 3])\n",
        "x2 = x.reshape((1, 3))\n",
        "\n",
        "print(\"x = {}\".format(x))\n",
        "print(\"x.shape: {}\".format(x.shape))\n",
        "\n",
        "print(\"\\nx2 = {}\".format(x2))\n",
        "print(\"x2.shape: {}\".format(x2.shape))"
      ],
      "execution_count": null,
      "outputs": []
    },
    {
      "cell_type": "markdown",
      "metadata": {
        "id": "ACZvpHStp1KY"
      },
      "source": [
        "## Array Concatenation and Splitting\n",
        "\n",
        "Trong phần này, chúng ta sẽ tìm hiểu về **Concatenation (Join)** and **Spliting** array trong Numpy."
      ]
    },
    {
      "cell_type": "markdown",
      "metadata": {
        "id": "xkqNzUURp1KY"
      },
      "source": [
        "### Concatenation of arrays\n",
        "\n",
        "Numpy hỗ trợ nối nhiều array bằng hàm `concatenate`, với input là list các mảng có cùng `shape` với nhau.\n",
        "\n",
        "**Chú ý:** nếu các mảng khác dimensions sẽ bị báo lỗi"
      ]
    },
    {
      "cell_type": "code",
      "metadata": {
        "id": "TdAOMJU0p1KY"
      },
      "source": [
        "# VD1: Nối 2 mảng 3x1 lại với nhau.\n",
        "x = np.array([1, 2, 3])\n",
        "y = np.array([3, 2, 1])\n",
        "np.concatenate([x, y])"
      ],
      "execution_count": null,
      "outputs": []
    },
    {
      "cell_type": "code",
      "metadata": {
        "id": "bEzt7oa4p1KY"
      },
      "source": [
        "# VD2: Nối 3 mảng lại với nhau\n",
        "z = [99, 99, 99]\n",
        "print(np.concatenate([x, y, z]))"
      ],
      "execution_count": null,
      "outputs": []
    },
    {
      "cell_type": "code",
      "metadata": {
        "id": "VeNDMG2vp1KZ"
      },
      "source": [
        "# VD3: Nối 2 mảng 2 chiều 2x3 thành 4x3\n",
        "grid = np.array([[1, 2, 3],\n",
        "                 [4, 5, 6]])\n",
        "result = np.concatenate([grid, grid])\n",
        "\n",
        "print(result)\n",
        "print(\"\\nFinal shape: \",result.shape)"
      ],
      "execution_count": null,
      "outputs": []
    },
    {
      "cell_type": "code",
      "metadata": {
        "id": "VIUIHoeQp1KZ"
      },
      "source": [
        "# VD4: Nối 2 mảng 2 chiều 2x3 thành 2x6\n",
        "# Parameter axis = 0/1/None\n",
        "# Default is 0\n",
        "np.concatenate([grid, grid], axis=1)"
      ],
      "execution_count": null,
      "outputs": []
    },
    {
      "cell_type": "markdown",
      "metadata": {
        "id": "6nlGVUudp1KZ"
      },
      "source": [
        "Trường hợp muốn nối các array khác dimensions, chúng ta có thể sử dụng ``np.vstack``(vertical stack) và ``np.hstack``(horizontal stack)\n",
        "\n",
        "**Chú ý:** dimension được nối lại phải có cùng size"
      ]
    },
    {
      "cell_type": "code",
      "metadata": {
        "id": "DeTXFGmGp1KZ"
      },
      "source": [
        "# VD5: Nối 2 mảng dưới đây (có dimensions khác nhau) theo chiều dọc:\n",
        "x = np.array([1, 2, 3])\n",
        "grid = np.array([[9, 8, 7],\n",
        "                 [6, 5, 4]])\n",
        "\n",
        "# vertically stack the arrays\n",
        "np.vstack([x, grid])"
      ],
      "execution_count": null,
      "outputs": []
    },
    {
      "cell_type": "code",
      "metadata": {
        "id": "poOC3o6zp1KZ"
      },
      "source": [
        "# VD6: Nối 2 mảng dưới đây (có dimensions khác nhau) theo chiều ngang:\n",
        "grid = np.array([[9, 8, 7],\n",
        "                 [6, 5, 4]])\n",
        "y = np.array([[99],\n",
        "              [99]])\n",
        "np.hstack([grid, y])"
      ],
      "execution_count": null,
      "outputs": []
    },
    {
      "cell_type": "markdown",
      "metadata": {
        "id": "9IbQcGaCp1Ka"
      },
      "source": [
        "### Splitting of arrays\n",
        "Ngược lại với ``concatenation`` là ``splitting``, Numpy hỗ trợ chúng ta các hàm: ``np.split``, ``np.hsplit``, ``np.vsplit``"
      ]
    },
    {
      "cell_type": "code",
      "metadata": {
        "id": "eOVR6Vkrp1Ka"
      },
      "source": [
        "# VD1: Split mảng x tại index 3, 5\n",
        "x = [1, 2, 3, 99, 99, 3, 2, 1]\n",
        "x1, x2, x3 = np.split(x, [3, 5])\n",
        "\n",
        "print(x1, x2, x3)"
      ],
      "execution_count": null,
      "outputs": []
    },
    {
      "cell_type": "code",
      "metadata": {
        "id": "uD7uw_fup1Ka"
      },
      "source": [
        "# Tạo 1 grid 4x4\n",
        "grid = np.arange(16).reshape((4, 4))\n",
        "print(\"Grid: \\n\",grid)"
      ],
      "execution_count": null,
      "outputs": []
    },
    {
      "cell_type": "code",
      "metadata": {
        "id": "X7CkypwOp1Kb"
      },
      "source": [
        "# VD2: Split grid theo chiều dọc, thành 2 phần upper, lowner bằng nhau.\n",
        "splitIndexList = [2]\n",
        "upper, lower = np.vsplit(grid, splitIndexList)\n",
        "\n",
        "print(\"\\nUper: \\n\",upper)\n",
        "print(\"\\nLower: \\n\",lower)"
      ],
      "execution_count": null,
      "outputs": []
    },
    {
      "cell_type": "code",
      "metadata": {
        "id": "x9bELV3Wp1Kb"
      },
      "source": [
        "# VD3: Split grid theo chiều ngang thành 2 phần left, right bằng nhau\n",
        "splitIndexList = [2]\n",
        "left, right = np.hsplit(grid, splitIndexList)\n",
        "\n",
        "print(\"Left: \\n\",left)\n",
        "print(\"\\nRight: \\n\",right)"
      ],
      "execution_count": null,
      "outputs": []
    },
    {
      "cell_type": "markdown",
      "metadata": {
        "id": "wAbUxn4DWyGo"
      },
      "source": [
        "# Universal Function"
      ]
    },
    {
      "cell_type": "markdown",
      "metadata": {
        "id": "kf6BeBmpYrVx"
      },
      "source": [
        "Numpy cung cấp nhiều hàm toán học như: `sin`, `cos`, `exp`,... để phục vụ cho việc tính toán. Những hàm này thường được gọi là **Universal Function**."
      ]
    },
    {
      "cell_type": "markdown",
      "metadata": {
        "id": "CnXrp9ftWyGt"
      },
      "source": [
        "### Arithmetic operators"
      ]
    },
    {
      "cell_type": "code",
      "metadata": {
        "id": "Whi21WyzWyGu",
        "colab": {
          "base_uri": "https://localhost:8080/"
        },
        "outputId": "1ffe2231-774e-47a9-d3f8-168ce5c75542"
      },
      "source": [
        "x = np.arange(4)\n",
        "x"
      ],
      "execution_count": null,
      "outputs": [
        {
          "output_type": "execute_result",
          "data": {
            "text/plain": [
              "array([0, 1, 2, 3])"
            ]
          },
          "metadata": {
            "tags": []
          },
          "execution_count": 47
        }
      ]
    },
    {
      "cell_type": "code",
      "metadata": {
        "id": "-fUBBZthLVx7"
      },
      "source": [
        "print(\"x     \\t=\", x)\n",
        "print(\"x + 5 \\t=\", x + 5)\n",
        "print(\"x - 5 \\t=\", x - 5)\n",
        "print(\"x * 2 \\t=\", x * 2)\n",
        "print(\"x / 2 \\t=\", x / 2)\n",
        "print(\"x // 2 \\t=\", x // 2)  # floor division\n",
        "print(\"-x    \\t=\", -x)\n",
        "print(\"x ** 2 \\t=\", x ** 2)\n",
        "print(\"x % 2  \\t=\", x % 2)"
      ],
      "execution_count": null,
      "outputs": []
    },
    {
      "cell_type": "markdown",
      "metadata": {
        "id": "vzw5GEYnWyGu"
      },
      "source": [
        "Ngoài ra, bạn có thể kết hợp các phép toán lại với nhau thành 1 biểu thức:"
      ]
    },
    {
      "cell_type": "code",
      "metadata": {
        "id": "AbOBoA7_WyGv"
      },
      "source": [
        "-(0.5*x + 1) ** 2"
      ],
      "execution_count": null,
      "outputs": []
    },
    {
      "cell_type": "code",
      "metadata": {
        "id": "SccF_CF4WyGv"
      },
      "source": [
        "np.add(x, 2)"
      ],
      "execution_count": null,
      "outputs": []
    },
    {
      "cell_type": "markdown",
      "metadata": {
        "id": "rxYiOQHbWyGv"
      },
      "source": [
        "\n",
        "| Operator\t    | Equivalent ufunc    | Description                           |\n",
        "|---------------|---------------------|---------------------------------------|\n",
        "|``+``          |``np.add``           |Addition (e.g., ``1 + 1 = 2``)         |\n",
        "|``-``          |``np.subtract``      |Subtraction (e.g., ``3 - 2 = 1``)      |\n",
        "|``-``          |``np.negative``      |Unary negation (e.g., ``-2``)          |\n",
        "|``*``          |``np.multiply``      |Multiplication (e.g., ``2 * 3 = 6``)   |\n",
        "|``/``          |``np.divide``        |Division (e.g., ``3 / 2 = 1.5``)       |\n",
        "|``//``         |``np.floor_divide``  |Floor division (e.g., ``3 // 2 = 1``)  |\n",
        "|``**``         |``np.power``         |Exponentiation (e.g., ``2 ** 3 = 8``)  |\n",
        "|``%``          |``np.mod``           |Modulus/remainder (e.g., ``9 % 4 = 1``)|"
      ]
    },
    {
      "cell_type": "markdown",
      "metadata": {
        "id": "XrM_IA_FWyGv"
      },
      "source": [
        "### Absolute value"
      ]
    },
    {
      "cell_type": "code",
      "metadata": {
        "id": "GnIUjMNuWyGw"
      },
      "source": [
        "x = np.array([-2, -1, 0, 1, 2])\n",
        "print(abs(x))           # Python\n",
        "print(np.absolute(x))   # Numpy\n",
        "print(np.abs(x))        # Numpy"
      ],
      "execution_count": null,
      "outputs": []
    },
    {
      "cell_type": "markdown",
      "metadata": {
        "id": "TeZQeCONMf98"
      },
      "source": [
        "### Trigonometric functions (Hàm lượng giác)"
      ]
    },
    {
      "cell_type": "code",
      "metadata": {
        "id": "FI_fb6RqMf99"
      },
      "source": [
        "alphaArr = np.linspace(0, np.pi, 3) # [0, pi/2, pi]\n",
        "alphaArr"
      ],
      "execution_count": null,
      "outputs": []
    },
    {
      "cell_type": "code",
      "metadata": {
        "id": "3MZvHrL6Mf99"
      },
      "source": [
        "print(\"alphaArr      = \", alphaArr)\n",
        "print(\"sin(alphaArr) = \", np.sin(alphaArr))\n",
        "print(\"cos(alphaArr) = \", np.cos(alphaArr))\n",
        "print(\"tan(alphaArr) = \", np.tan(alphaArr))"
      ],
      "execution_count": null,
      "outputs": []
    },
    {
      "cell_type": "code",
      "metadata": {
        "id": "hCCRqOkqMf99"
      },
      "source": [
        "x = [-1, 0, 1]\n",
        "print(\"x         = \", x)\n",
        "print(\"arcsin(x) = \", [np.degrees(x) for x in np.arcsin(x)])\n",
        "print(\"arccos(x) = \", [np.degrees(x) for x in np.arccos(x)])\n",
        "print(\"arctan(x) = \", [np.degrees(x) for x in np.arctan(x)])"
      ],
      "execution_count": null,
      "outputs": []
    },
    {
      "cell_type": "markdown",
      "metadata": {
        "id": "2Alhi8GpWyGy"
      },
      "source": [
        "### Exponents and logarithms"
      ]
    },
    {
      "cell_type": "code",
      "metadata": {
        "id": "3FgxeDaHWyGy"
      },
      "source": [
        "x = [1, 2, 3]\n",
        "print(\"x     =\", x)\n",
        "print(\"e^x   =\", np.exp(x))\n",
        "print(\"2^x   =\", np.exp2(x))\n",
        "print(\"3^x   =\", np.power(3, x))"
      ],
      "execution_count": null,
      "outputs": []
    },
    {
      "cell_type": "code",
      "metadata": {
        "id": "IVtXXSLOWyGz"
      },
      "source": [
        "x = [1, 2, 4, 10]\n",
        "print(\"x        =\", x)\n",
        "print(\"ln(x)    =\", np.log(x))\n",
        "print(\"log2(x)  =\", np.log2(x))\n",
        "print(\"log10(x) =\", np.log10(x))"
      ],
      "execution_count": null,
      "outputs": []
    },
    {
      "cell_type": "markdown",
      "metadata": {
        "id": "CF_-4IRFW8-3"
      },
      "source": [
        "# Aggregations: Min, Max, and Everything In Between"
      ]
    },
    {
      "cell_type": "markdown",
      "metadata": {
        "id": "Vv9apQZXW8-3"
      },
      "source": [
        "Khi làm việc với dữ liệu bằng Numpy, chúng ta thường có nhu cầu tổng hợp và thống kê tập dữ liệu đó. \n",
        "\n",
        "Numpy cũng đã hỗ trợ rất nhiều hàm hữu ích như: sum, product, mean, median, minium, maximum,...)"
      ]
    },
    {
      "cell_type": "markdown",
      "metadata": {
        "id": "iKCnT2qSW8-4"
      },
      "source": [
        "## Summing the Values in an Array\n"
      ]
    },
    {
      "cell_type": "code",
      "metadata": {
        "id": "C3zMO51kW8-4"
      },
      "source": [
        "# Random 1 mảng 100 phần tử có giá trị trong khoảng [0,1)\n",
        "L = np.random.random(100)\n",
        "sum(L) # Python Syntax\n",
        "np.sum(L) # Numpy Syntax"
      ],
      "execution_count": null,
      "outputs": []
    },
    {
      "cell_type": "markdown",
      "metadata": {
        "id": "fw7-GtPY3j_A"
      },
      "source": [
        "So sánh tốc độ tính toán của Numpy với Python thuần:"
      ]
    },
    {
      "cell_type": "code",
      "metadata": {
        "id": "0I8iBi5s1zai"
      },
      "source": [
        "import timeit  \n",
        "\n",
        "mysetup = '''\n",
        "import numpy as np\n",
        "big_array = np.random.rand(1000000)\n",
        "'''\n",
        "\n",
        "testNp = '''  \n",
        "np.sum(big_array)\n",
        "'''\n",
        "\n",
        "testPython = '''\n",
        "sum(big_array)\n",
        "'''\n",
        "\n",
        "# timeit statement  \n",
        "print(\"np.sum: {}\".format(timeit.timeit(setup=mysetup, stmt=testNp, number=1)))\n",
        "print(\"sum: {}\".format(timeit.timeit(setup=mysetup, stmt=testPython, number=1)))\n"
      ],
      "execution_count": null,
      "outputs": []
    },
    {
      "cell_type": "markdown",
      "metadata": {
        "id": "XFxhmyp-W8-7"
      },
      "source": [
        "## Minimum and Maximum"
      ]
    },
    {
      "cell_type": "code",
      "metadata": {
        "id": "vrZTcMNHW8-7"
      },
      "source": [
        "big_array = np.random.rand(1000000)\n",
        "\n",
        "# Python\n",
        "print(min(big_array))\n",
        "print(max(big_array))\n",
        "\n",
        "# Numpy\n",
        "print(np.min(big_array))\n",
        "print(np.max(big_array))"
      ],
      "execution_count": null,
      "outputs": []
    },
    {
      "cell_type": "markdown",
      "metadata": {
        "id": "r4QNr-I-W8-8"
      },
      "source": [
        "Hoặc có thể sử dụng cú pháp ngắn gọn hơn của Numpy"
      ]
    },
    {
      "cell_type": "code",
      "metadata": {
        "id": "RKJCg171W8-8"
      },
      "source": [
        "print(big_array.min(), big_array.max(), big_array.sum())"
      ],
      "execution_count": null,
      "outputs": []
    },
    {
      "cell_type": "markdown",
      "metadata": {
        "id": "dkbtKZsqW8-9"
      },
      "source": [
        "### Multi dimensional aggregates"
      ]
    },
    {
      "cell_type": "code",
      "metadata": {
        "id": "8VZFc9WPW8-9"
      },
      "source": [
        "M = np.random.randint(0,5,(3, 4))\n",
        "M"
      ],
      "execution_count": null,
      "outputs": []
    },
    {
      "cell_type": "code",
      "metadata": {
        "id": "XCk-wX6tW8-9"
      },
      "source": [
        "# VD1: Sum toàn bộ các phần tử trong mảng đa chiều.\n",
        "M.sum()"
      ],
      "execution_count": null,
      "outputs": []
    },
    {
      "cell_type": "code",
      "metadata": {
        "id": "y8-umc0RW8-9"
      },
      "source": [
        "# VD2: Tìm phần tử nhỏ nhất trên mỗi cột\n",
        "# Kết quả trả về là array các phần tử nhỏ nhất trên mỗi cột\n",
        "M.min(axis=0)"
      ],
      "execution_count": null,
      "outputs": []
    },
    {
      "cell_type": "code",
      "metadata": {
        "id": "T9MJZuMzW8--"
      },
      "source": [
        "# VD3: ương tự tìm phần tử lớn nhất trên mỗi hàng\n",
        "M.max(axis=1)"
      ],
      "execution_count": null,
      "outputs": []
    },
    {
      "cell_type": "markdown",
      "metadata": {
        "id": "LVEYz1OgW8--"
      },
      "source": [
        "### Other aggregation functions\n",
        "\n",
        "Danh sách toàn bộ các aggregation functions mà Numpy cung cấp\n",
        "\n",
        "|Function Name      |   NaN-safe Version  | Description                                   |\n",
        "|-------------------|---------------------|-----------------------------------------------|\n",
        "| ``np.sum``        | ``np.nansum``       | Compute sum of elements                       |\n",
        "| ``np.prod``       | ``np.nanprod``      | Compute product of elements                   |\n",
        "| ``np.mean``       | ``np.nanmean``      | Compute mean of elements                      |\n",
        "| ``np.std``        | ``np.nanstd``       | Compute standard deviation                    |\n",
        "| ``np.var``        | ``np.nanvar``       | Compute variance                              |\n",
        "| ``np.min``        | ``np.nanmin``       | Find minimum value                            |\n",
        "| ``np.max``        | ``np.nanmax``       | Find maximum value                            |\n",
        "| ``np.argmin``     | ``np.nanargmin``    | Find index of minimum value                   |\n",
        "| ``np.argmax``     | ``np.nanargmax``    | Find index of maximum value                   |\n",
        "| ``np.median``     | ``np.nanmedian``    | Compute median of elements                    |\n",
        "| ``np.percentile`` | ``np.nanpercentile``| Compute rank-based statistics of elements     |\n",
        "| ``np.any``        | N/A                 | Evaluate whether any elements are true        |\n",
        "| ``np.all``        | N/A                 | Evaluate whether all elements are true        |\n"
      ]
    },
    {
      "cell_type": "markdown",
      "metadata": {
        "id": "DUaUCjSOW8-_"
      },
      "source": [
        "## Example: What is the Average Height of US Presidents?"
      ]
    },
    {
      "cell_type": "code",
      "metadata": {
        "id": "4QbgQoRWW8-_"
      },
      "source": [
        "# Đọc 4 hàng đầu tiên của file\n",
        "!head -4 sample_data/president_heights.csv"
      ],
      "execution_count": null,
      "outputs": []
    },
    {
      "cell_type": "code",
      "metadata": {
        "id": "yJvwcpeCW8-_"
      },
      "source": [
        "import pandas as pd\n",
        "\n",
        "# Đọc file dữ liệu\n",
        "data = pd.read_csv('sample_data/president_heights.csv')\n",
        "\n",
        "# Lấy ra mảng chiều cao của các presidents\n",
        "heights = np.array(data['height(cm)'])\n",
        "print(heights)"
      ],
      "execution_count": null,
      "outputs": []
    },
    {
      "cell_type": "markdown",
      "metadata": {
        "id": "zP3LVWZCW8_A"
      },
      "source": [
        "Dùng 1 số hàm thống kê mà Numpy cung cấp"
      ]
    },
    {
      "cell_type": "code",
      "metadata": {
        "id": "HTHa0IOkW8_A"
      },
      "source": [
        "print(\"Mean height:       \", heights.mean())\n",
        "print(\"Standard deviation:\", heights.std()) # Độ lệch chuẩn\n",
        "print(\"Minimum height:    \", heights.min())\n",
        "print(\"Maximum height:    \", heights.max())"
      ],
      "execution_count": null,
      "outputs": []
    },
    {
      "cell_type": "markdown",
      "metadata": {
        "id": "tkWzb7oDW8_A"
      },
      "source": [
        "Ngoài ra, chúng ta có thể tính toán **trung vị (median)** và **bách phân vị (percentile)**."
      ]
    },
    {
      "cell_type": "code",
      "metadata": {
        "id": "m_MeIKqfW8_B"
      },
      "source": [
        "print(\"25th percentile (phân vị thứ 25):   \\t\", np.percentile(heights, 25))\n",
        "print(\"Median (trung vị):            \\t\\t\", np.median(heights))\n",
        "print(\"75th percentile (phân vị thứ 75):   \\t\", np.percentile(heights, 75))"
      ],
      "execution_count": null,
      "outputs": []
    },
    {
      "cell_type": "markdown",
      "metadata": {
        "id": "Vqm53_HMxbgB"
      },
      "source": [
        "# Comparisons, Masks, and Boolean Logic"
      ]
    },
    {
      "cell_type": "markdown",
      "metadata": {
        "id": "_xROswIEEzet"
      },
      "source": [
        "## Example: Counting Rainy Days"
      ]
    },
    {
      "cell_type": "code",
      "metadata": {
        "id": "DXjmr2RXEzet",
        "colab": {
          "base_uri": "https://localhost:8080/"
        },
        "outputId": "399b6211-4f5f-4eac-abca-220c327588b0"
      },
      "source": [
        "import numpy as np\n",
        "import pandas as pd\n",
        "\n",
        "# Load cột lượng mưa (precipitation)\n",
        "rainfall = pd.read_csv('Seattle2014.csv')['PRCP'].values\n",
        "\n",
        "# Đổi lượng mưa ra đơn vị inch\n",
        "inches = rainfall/254.0\n",
        "print(\"Size: \",inches.size)\n",
        "print(inches[:5])"
      ],
      "execution_count": null,
      "outputs": [
        {
          "output_type": "stream",
          "text": [
            "Size:  365\n",
            "[0.         0.16141732 0.05905512 0.         0.        ]\n"
          ],
          "name": "stdout"
        }
      ]
    },
    {
      "cell_type": "markdown",
      "metadata": {
        "id": "zqTgAHgwFWso"
      },
      "source": [
        "Dựa vào bảng dữ liệu này, ta có thể tính được lượng mưa trung bình, lượng mưa lớn nhất, nhỏ nhất.\n",
        "\n",
        "Vậy làm thế nào để ta tính được:\n",
        "\n",
        "*   Có bao nhiêu ngày có mưa?\n",
        "*   Có bao nhiêu ngày không mưa?\n",
        "*   Có bao nhiêu ngày có lượng mưa > 1 inch?\n",
        "*   Có bao nhiêu ngày lượng mưa > 0.5 inch và < 1 inch?\n",
        "*   ...\n",
        "\n",
        "Thông thường ta sẽ nghĩ đến giải pháp là dùng vòng lặp, kiểm tra điều kiện và tăng biến đếm lên.\n",
        "\n",
        "Tuy nhiên, Numpy đã hỗ trợ cho ta nhiều hàm để tính toán điều này nhanh chóng và ngắn gọn."
      ]
    },
    {
      "cell_type": "markdown",
      "metadata": {
        "id": "rCeOp34_PYTc"
      },
      "source": [
        "## Comparison Operators"
      ]
    },
    {
      "cell_type": "code",
      "metadata": {
        "collapsed": true,
        "id": "Bq7uGLwKPYTd"
      },
      "source": [
        "x = np.array([1, 2, 3, 4, 5])\n",
        "x"
      ],
      "execution_count": null,
      "outputs": []
    },
    {
      "cell_type": "code",
      "metadata": {
        "id": "cvni3EQEPYTd"
      },
      "source": [
        "# VD1: Sử dụng toán tử: > < >= <= ==\n",
        "# Return new NumpyArray\n",
        "print(x<3)\n",
        "print(x<=3)\n",
        "print(x>3)\n",
        "print(x>=3)\n",
        "print(x==3)"
      ],
      "execution_count": null,
      "outputs": []
    },
    {
      "cell_type": "code",
      "metadata": {
        "id": "qCM6Z9hhPYTh"
      },
      "source": [
        "# VD2: Sử dụng toán tử == giữa 2 array\n",
        "print(x*2)\n",
        "print(x**2)\n",
        "print((2*x)==(x**2))"
      ],
      "execution_count": null,
      "outputs": []
    },
    {
      "cell_type": "markdown",
      "metadata": {
        "id": "oLRBFAslUy3E"
      },
      "source": [
        "## Working with Boolean Arrays"
      ]
    },
    {
      "cell_type": "markdown",
      "metadata": {
        "id": "JoHw4JLaiFHu"
      },
      "source": [
        "Sau khi sử dụng 1 số toán tử so sánh với 1 mảng, ta sẽ nhận được 1 mảng Boolean mới. Vậy ta có thể làm gì với mảng Boolean đó?"
      ]
    },
    {
      "cell_type": "markdown",
      "metadata": {
        "id": "jdUHXGcbUy3I"
      },
      "source": [
        "### Counting entries"
      ]
    },
    {
      "cell_type": "code",
      "metadata": {
        "id": "QPjOMkynUy3G"
      },
      "source": [
        "x = np.random.randint(0,10,(3,4))\n",
        "x"
      ],
      "execution_count": null,
      "outputs": []
    },
    {
      "cell_type": "code",
      "metadata": {
        "id": "cK_nEoXRUy3J"
      },
      "source": [
        "# VD1: Có bao nhiêu phần tử < 6 trong array x?\n",
        "\n",
        "# Cách 1: Dùng hàm np.count_nonzero\n",
        "boolArr = x < 6\n",
        "s1 = np.count_nonzero(boolArr)\n",
        "print(\"s1 = \",s1)\n",
        "\n",
        "# Cách 2:\n",
        "s2 = np.sum(boolArr)\n",
        "print(\"s2 = \",s2)"
      ],
      "execution_count": null,
      "outputs": []
    },
    {
      "cell_type": "code",
      "metadata": {
        "id": "BDzitW_BUy3N"
      },
      "source": [
        "# VD2: Có bao nhiêu giá trị < 6 trên mỗi row?\n",
        "np.sum(x < 6, axis=1)"
      ],
      "execution_count": null,
      "outputs": []
    },
    {
      "cell_type": "code",
      "metadata": {
        "id": "x8VFlhasUy3O"
      },
      "source": [
        "# VD3: Có giá trị nào > 8 trong mảng hay không?\n",
        "np.any(x > 8)"
      ],
      "execution_count": null,
      "outputs": []
    },
    {
      "cell_type": "code",
      "metadata": {
        "id": "DecKm95WUy3Q"
      },
      "source": [
        "# VD4: Có phải tất cả các giá trị trong mảng đều < 10?\n",
        "np.all(x < 10)"
      ],
      "execution_count": null,
      "outputs": []
    },
    {
      "cell_type": "markdown",
      "metadata": {
        "id": "lRRL7b8CUy3U"
      },
      "source": [
        "### Boolean operators"
      ]
    },
    {
      "cell_type": "markdown",
      "metadata": {
        "id": "qjaOKgvVIUBd"
      },
      "source": [
        "Có bao nhiêu ngày có lượng mưa > 0.5 ich và < 1 inch?"
      ]
    },
    {
      "cell_type": "markdown",
      "metadata": {
        "id": "qC5dJWIUUy3k"
      },
      "source": [
        "| Operator\t    | Equivalent ufunc    || Operator\t    | Equivalent ufunc    |\n",
        "|---------------|---------------------||---------------|---------------------|\n",
        "|``&``          |``np.bitwise_and``   ||&#124;         |``np.bitwise_or``    |\n",
        "|``^``          |``np.bitwise_xor``   ||``~``          |``np.bitwise_not``   |"
      ]
    },
    {
      "cell_type": "code",
      "metadata": {
        "id": "QkksNJSXUy3V"
      },
      "source": [
        "# Cách 1: condition 1 & condition 2\n",
        "boolArr = (inches > 0.5) & (inches < 1)\n",
        "np.sum(boolArr)"
      ],
      "execution_count": null,
      "outputs": []
    },
    {
      "cell_type": "code",
      "metadata": {
        "id": "emZMH7lHUy3k"
      },
      "source": [
        "# Cách 2: ~(condition 1 | condition 2)\n",
        "np.sum(~( (inches <= 0.5) | (inches >= 1) ))"
      ],
      "execution_count": null,
      "outputs": []
    },
    {
      "cell_type": "markdown",
      "metadata": {
        "id": "kIWLIiZ6Uy3l"
      },
      "source": [
        "Bây giờ, ta có thể trả lời những câu hỏi ở trên nhờ Numpy:"
      ]
    },
    {
      "cell_type": "code",
      "metadata": {
        "id": "wE9nE20WUy3l"
      },
      "source": [
        "print(\"Số ngày không mưa:\\t\\t\\t\",             np.sum(inches == 0))\n",
        "print(\"Số ngày có mưa:\\t\\t\\t\\t\",              np.sum(inches != 0))\n",
        "print(\"Số ngày mưa nhiều hơn 0.5 inches:\\t\",  np.sum(inches > 0.5))\n",
        "print(\"Số ngày mưa ít hơn 0.3 inches:\\t\\t\",   np.sum((inches > 0) & (inches < 0.3)))"
      ],
      "execution_count": null,
      "outputs": []
    },
    {
      "cell_type": "markdown",
      "metadata": {
        "id": "7gexjGBJUy3l"
      },
      "source": [
        "## Boolean Arrays as Masks"
      ]
    },
    {
      "cell_type": "code",
      "metadata": {
        "id": "QsRijL0rUy3l"
      },
      "source": [
        "x = np.random.randint(0,10,(3,4))\n",
        "x < 5"
      ],
      "execution_count": null,
      "outputs": []
    },
    {
      "cell_type": "code",
      "metadata": {
        "id": "AN4OPNeAUy3m"
      },
      "source": [
        "# VD1: Lấy ra những phần tử < 5 dựa vào mask\n",
        "# Kết quả trả về là mảng 1 chiều\n",
        "myMask = x < 5\n",
        "x[myMask]"
      ],
      "execution_count": null,
      "outputs": []
    },
    {
      "cell_type": "code",
      "metadata": {
        "id": "w-kA18kOUy3n"
      },
      "source": [
        "# Masking những ngày có mưa\n",
        "rainyMask = (inches > 0)\n",
        "\n",
        "# Masking những ngày mùa hè\n",
        "days = np.arange(inches.size)\n",
        "summerMask = (days > 172) & (days < 262)\n",
        "\n",
        "print(\"Lượng mưa trung bình của những ngày có mưa năm 2014 (inches):\\t\",np.median(inches[rainyMask]))\n",
        "print(\"Lượng mưa trung bình của những ngày mùa hè năm 2014 (inches):\\t\",np.median(inches[summerMask]))\n",
        "print(\"Lượng mưa cao nhất trong những ngày mùa hè năm 2014 (inches):\\t\",np.max(inches[summerMask]))\n",
        "print(\"Lượng mưa trung bình những ngày có mưa không phải mùa hè năm 2014 (inches):\\t\",np.median(inches[rainyMask & ~summerMask]))"
      ],
      "execution_count": null,
      "outputs": []
    },
    {
      "cell_type": "markdown",
      "metadata": {
        "id": "D5Kre0s7Uy3n"
      },
      "source": [
        "Bằng cách kết hợp: **Boolean Operations**, **Masking Operations**, **Aggreagate** chúng ta có thể trả lời những câu hỏi rất thực tế từ tập dữ liệu 1 cách nhanh chóng và ngắn gọn"
      ]
    },
    {
      "cell_type": "markdown",
      "metadata": {
        "id": "tl1jVbywVV4k"
      },
      "source": [
        "# Sorting Arrays\n",
        "Sắp xếp mảng"
      ]
    },
    {
      "cell_type": "markdown",
      "metadata": {
        "id": "YPQPmFwzqW1M"
      },
      "source": [
        "Phần này bao gồm các thuật toán liên quan đến việc sắp xếp các giá trị trong mảng NumPy.\n",
        "\n",
        "Ví dụ, một thuật toán selection sort đơn giản lặp đi lặp lại tìm giá trị nhỏ nhất từ một danh sách và thực hiện hoán đổi cho đến khi danh sách được sắp xếp. Độ phức tạp của giải thuật này là $\\mathcal{O}[N^2]$"
      ]
    },
    {
      "cell_type": "code",
      "metadata": {
        "id": "v1ME5iaVVV4l"
      },
      "source": [
        "import numpy as np\n",
        "\n",
        "def selection_sort(x):\n",
        "    for i in range(len(x)):\n",
        "        swap = i + np.argmin(x[i:])\n",
        "        (x[i], x[swap]) = (x[swap], x[i])\n",
        "    return x"
      ],
      "execution_count": null,
      "outputs": []
    },
    {
      "cell_type": "code",
      "metadata": {
        "id": "RUY7JTLwVV4l",
        "colab": {
          "base_uri": "https://localhost:8080/"
        },
        "outputId": "bcd909b8-633d-4b2e-ea2a-1fe1b8851f9d"
      },
      "source": [
        "x = np.array([2, 1, 4, 3, 5])\n",
        "selection_sort(x)"
      ],
      "execution_count": null,
      "outputs": [
        {
          "output_type": "execute_result",
          "data": {
            "text/plain": [
              "array([1, 2, 3, 4, 5])"
            ]
          },
          "metadata": {
            "tags": []
          },
          "execution_count": 30
        }
      ]
    },
    {
      "cell_type": "markdown",
      "metadata": {
        "id": "pLHYE08XVV4o"
      },
      "source": [
        "## Fast Sorting in NumPy: ``np.sort`` and ``np.argsort``\n",
        "\n",
        "Mặc dù Python có sẵn các hàm ``sort`` và ``sorted`` để sắp xếp list, hàm ``np.sort`` của NumPy hiệu quả và hữu dụng hơn nhiều.\n",
        "\n",
        "Mặc định, ``np.sort`` sử dụng quicksort với độ phức tạp $\\mathcal{O}[N\\log N]$"
      ]
    },
    {
      "cell_type": "code",
      "metadata": {
        "id": "xhgxEJDjVV4o",
        "colab": {
          "base_uri": "https://localhost:8080/"
        },
        "outputId": "62a1d8d1-dd3f-43eb-b4e9-f40d38d7ecab"
      },
      "source": [
        "x = np.array([2, 1, 4, 3, 5])\n",
        "np.sort(x)"
      ],
      "execution_count": null,
      "outputs": [
        {
          "output_type": "execute_result",
          "data": {
            "text/plain": [
              "array([1, 2, 3, 4, 5])"
            ]
          },
          "metadata": {
            "tags": []
          },
          "execution_count": 31
        }
      ]
    },
    {
      "cell_type": "markdown",
      "metadata": {
        "id": "DIL7jNueVV4p"
      },
      "source": [
        "Dùng hàm ``sort`` để sắp xếp chính bản thân array đó"
      ]
    },
    {
      "cell_type": "code",
      "metadata": {
        "id": "P7LEJfxOVV4p",
        "colab": {
          "base_uri": "https://localhost:8080/"
        },
        "outputId": "2d15c8d4-18ef-4b12-d377-14148cd85df5"
      },
      "source": [
        "x.sort()\n",
        "print(x)"
      ],
      "execution_count": null,
      "outputs": [
        {
          "output_type": "stream",
          "text": [
            "[1 2 3 4 5]\n"
          ],
          "name": "stdout"
        }
      ]
    },
    {
      "cell_type": "markdown",
      "metadata": {
        "id": "JK7QdRJyVV4p"
      },
      "source": [
        "``argsort``trả về vị trí *(index)* của phần tử được sắp xếp "
      ]
    },
    {
      "cell_type": "code",
      "metadata": {
        "id": "w7eUi-egVV4p",
        "colab": {
          "base_uri": "https://localhost:8080/"
        },
        "outputId": "09bc436f-4e89-4725-83fa-b580bfc96e89"
      },
      "source": [
        "x = np.array([2, 1, 4, 3, 5])\n",
        "i = np.argsort(x)\n",
        "print(i)"
      ],
      "execution_count": null,
      "outputs": [
        {
          "output_type": "stream",
          "text": [
            "[1 0 3 2 4]\n"
          ],
          "name": "stdout"
        }
      ]
    },
    {
      "cell_type": "markdown",
      "metadata": {
        "id": "lU27xDr1VV4q"
      },
      "source": [
        "Phần tử đầu tiên của kết quả này cho chỉ số của phần tử nhỏ nhất, giá trị thứ hai cho chỉ số của phần tử nhỏ nhất thứ hai, v.v.\n",
        "Các chỉ số này sau đó có thể được sử dụng (thông qua lập chỉ mục) để xây dựng mảng đã sắp xếp nếu muốn:"
      ]
    },
    {
      "cell_type": "code",
      "metadata": {
        "id": "SXkDZTTGVV4q",
        "colab": {
          "base_uri": "https://localhost:8080/"
        },
        "outputId": "694fa5c3-b8a8-4284-f23e-4ad5f528758c"
      },
      "source": [
        "x[i]"
      ],
      "execution_count": null,
      "outputs": [
        {
          "output_type": "execute_result",
          "data": {
            "text/plain": [
              "array([1, 2, 3, 4, 5])"
            ]
          },
          "metadata": {
            "tags": []
          },
          "execution_count": 35
        }
      ]
    },
    {
      "cell_type": "markdown",
      "metadata": {
        "id": "CrHGbg52VV4q"
      },
      "source": [
        "### Sorting along rows or columns"
      ]
    },
    {
      "cell_type": "markdown",
      "metadata": {
        "id": "r4R11sxIVV4q"
      },
      "source": [
        "Một tính năng hữu ích của các thuật toán sắp xếp của NumPy là khả năng sắp xếp theo các hàng hoặc cột cụ thể của một mảng đa chiều bằng cách sử dụng đối số `` axis``. Ví dụ:"
      ]
    },
    {
      "cell_type": "code",
      "metadata": {
        "id": "8e_Ev-fCVV4r",
        "colab": {
          "base_uri": "https://localhost:8080/"
        },
        "outputId": "1a9e344d-2043-4142-fee5-07b00a243da6"
      },
      "source": [
        "rand = np.random.RandomState(42)\n",
        "X = rand.randint(0, 10, (4, 6))\n",
        "print(X)"
      ],
      "execution_count": null,
      "outputs": [
        {
          "output_type": "stream",
          "text": [
            "[[6 3 7 4 6 9]\n",
            " [2 6 7 4 3 7]\n",
            " [7 2 5 4 1 7]\n",
            " [5 1 4 0 9 5]]\n"
          ],
          "name": "stdout"
        }
      ]
    },
    {
      "cell_type": "code",
      "metadata": {
        "id": "2pZoqDR_VV4r",
        "colab": {
          "base_uri": "https://localhost:8080/"
        },
        "outputId": "d46784a3-4c06-4019-fea5-01021c95c954"
      },
      "source": [
        "# sắp xếp mỗi cột của X\n",
        "np.sort(X, axis=0)"
      ],
      "execution_count": null,
      "outputs": [
        {
          "output_type": "execute_result",
          "data": {
            "text/plain": [
              "array([[2, 1, 4, 0, 1, 5],\n",
              "       [5, 2, 5, 4, 3, 7],\n",
              "       [6, 3, 7, 4, 6, 7],\n",
              "       [7, 6, 7, 4, 9, 9]])"
            ]
          },
          "metadata": {
            "tags": []
          },
          "execution_count": 38
        }
      ]
    },
    {
      "cell_type": "code",
      "metadata": {
        "id": "Q82gS5wpVV4r",
        "colab": {
          "base_uri": "https://localhost:8080/"
        },
        "outputId": "c1fa1f18-7181-4990-f7f2-05f2c1923533"
      },
      "source": [
        "# sắp xếp mỗi hàng của X\n",
        "np.sort(X, axis=1)"
      ],
      "execution_count": null,
      "outputs": [
        {
          "output_type": "execute_result",
          "data": {
            "text/plain": [
              "array([[3, 4, 6, 6, 7, 9],\n",
              "       [2, 3, 4, 6, 7, 7],\n",
              "       [1, 2, 4, 5, 7, 7],\n",
              "       [0, 1, 4, 5, 5, 9]])"
            ]
          },
          "metadata": {
            "tags": []
          },
          "execution_count": 39
        }
      ]
    },
    {
      "cell_type": "markdown",
      "metadata": {
        "id": "FKfODqgbVV4r"
      },
      "source": [
        "Hãy nhớ rằng điều này coi mỗi hàng hoặc cột là một mảng độc lập và bất kỳ mối quan hệ nào giữa các giá trị hàng hoặc cột sẽ bị mất!"
      ]
    },
    {
      "cell_type": "markdown",
      "metadata": {
        "id": "baA2Slk9VV4s"
      },
      "source": [
        "## Partial Sorts: Partitioning\n",
        "\n",
        "Đôi khi chúng ta không quan tâm đến việc sắp xếp toàn bộ mảng mà chỉ muốn tìm *k* giá trị nhỏ nhất trong mảng. NumPy cung cấp điều này trong hàm ``np.partition``. ``np.partition`` nhận một mảng và một số *K*; kết quả là một mảng mới với *K* giá trị nhỏ nhất ở bên trái của phân vùng và các giá trị còn lại ở bên phải, theo thứ tự tùy ý:"
      ]
    },
    {
      "cell_type": "code",
      "metadata": {
        "id": "2y9wgUyWVV4s",
        "colab": {
          "base_uri": "https://localhost:8080/"
        },
        "outputId": "613512a0-0d73-44ac-e3c3-c82c7c68300c"
      },
      "source": [
        "x = np.array([7, 2, 3, 1, 6, 5, 4])\n",
        "np.partition(x, 3)"
      ],
      "execution_count": null,
      "outputs": [
        {
          "output_type": "execute_result",
          "data": {
            "text/plain": [
              "array([2, 1, 3, 4, 6, 5, 7])"
            ]
          },
          "metadata": {
            "tags": []
          },
          "execution_count": 3
        }
      ]
    },
    {
      "cell_type": "markdown",
      "metadata": {
        "id": "JEfB9rTHVV4s"
      },
      "source": [
        "Lưu ý rằng ba giá trị đầu tiên trong mảng kết quả là ba giá trị nhỏ nhất trong mảng và các vị trí còn lại của mảng chứa các giá trị còn lại.\n",
        "Trong hai phân vùng, các phần tử có thứ tự tùy ý.\n",
        "\n",
        "Tương tự như sắp xếp, chúng ta có thể phân vùng dọc theo một trục tùy ý của mảng nhiều chiều:"
      ]
    },
    {
      "cell_type": "code",
      "metadata": {
        "id": "XbiUO4CiVV4s",
        "colab": {
          "base_uri": "https://localhost:8080/"
        },
        "outputId": "9792dba1-da92-4aed-e0bc-ab560a17ff7e"
      },
      "source": [
        "np.partition(X, 2, axis=1)"
      ],
      "execution_count": null,
      "outputs": [
        {
          "output_type": "execute_result",
          "data": {
            "text/plain": [
              "array([[3, 4, 6, 7, 6, 9],\n",
              "       [2, 3, 4, 7, 6, 7],\n",
              "       [1, 2, 4, 5, 7, 7],\n",
              "       [0, 1, 4, 5, 9, 5]])"
            ]
          },
          "metadata": {
            "tags": []
          },
          "execution_count": 6
        }
      ]
    },
    {
      "cell_type": "markdown",
      "metadata": {
        "id": "0iA0KM6qVV4t"
      },
      "source": [
        "Kết quả là một mảng trong đó hai vị trí đầu tiên trong mỗi hàng chứa các giá trị nhỏ nhất từ hàng đó, với các giá trị còn lại lấp đầy các vị trí còn lại.\n",
        "\n",
        "Cuối cùng, giống như có np.argsort tính toán các chỉ số của việc sắp xếp, np.argpartition tính toán các chỉ số của phân vùng."
      ]
    },
    {
      "cell_type": "markdown",
      "metadata": {
        "id": "4wksy15uVV4t"
      },
      "source": [
        "## Example: k-Nearest Neighbors (optional)\n",
        "\n",
        "Let's quickly see how we might use this ``argsort`` function along multiple axes to find the nearest neighbors of each point in a set.\n",
        "We'll start by creating a random set of 10 points on a two-dimensional plane.\n",
        "Using the standard convention, we'll arrange these in a $10\\times 2$ array:"
      ]
    },
    {
      "cell_type": "code",
      "metadata": {
        "id": "n2mxoCpfVV4t"
      },
      "source": [
        "X = rand.rand(10, 2)"
      ],
      "execution_count": null,
      "outputs": []
    },
    {
      "cell_type": "markdown",
      "metadata": {
        "id": "p5hFALcCVV4t"
      },
      "source": [
        "To get an idea of how these points look, let's quickly scatter plot them:"
      ]
    },
    {
      "cell_type": "code",
      "metadata": {
        "id": "SfZH8CtWVV4t",
        "colab": {
          "base_uri": "https://localhost:8080/",
          "height": 268
        },
        "outputId": "18f85d7d-6441-4de6-dd6a-25a8b6229a84"
      },
      "source": [
        "%matplotlib inline\n",
        "import matplotlib.pyplot as plt\n",
        "import seaborn; seaborn.set() # Plot styling\n",
        "plt.scatter(X[:, 0], X[:, 1], s=100);"
      ],
      "execution_count": null,
      "outputs": [
        {
          "output_type": "display_data",
          "data": {
            "image/png": "[encoded data removed]",
            "text/plain": [
              "<Figure size 432x288 with 1 Axes>"
            ]
          },
          "metadata": {
            "tags": []
          }
        }
      ]
    },
    {
      "cell_type": "markdown",
      "metadata": {
        "id": "eflcr5g9VV4u"
      },
      "source": [
        "Now we'll compute the distance between each pair of points.\n",
        "Recall that the squared-distance between two points is the sum of the squared differences in each dimension;\n",
        "using the efficient broadcasting ([Computation on Arrays: Broadcasting](02.05-Computation-on-arrays-broadcasting.ipynb)) and aggregation ([Aggregations: Min, Max, and Everything In Between](02.04-Computation-on-arrays-aggregates.ipynb))  routines provided by NumPy we can compute the matrix of square distances in a single line of code:"
      ]
    },
    {
      "cell_type": "code",
      "metadata": {
        "id": "GNNqVt_-VV4u"
      },
      "source": [
        "dist_sq = np.sum((X[:, np.newaxis, :] - X[np.newaxis, :, :]) ** 2, axis=-1)"
      ],
      "execution_count": null,
      "outputs": []
    },
    {
      "cell_type": "markdown",
      "metadata": {
        "id": "cUR0wbE6VV4u"
      },
      "source": [
        "This operation has a lot packed into it, and it might be a bit confusing if you're unfamiliar with NumPy's broadcasting rules. When you come across code like this, it can be useful to break it down into its component steps:"
      ]
    },
    {
      "cell_type": "code",
      "metadata": {
        "id": "SyNNsXHKVV4u",
        "colab": {
          "base_uri": "https://localhost:8080/"
        },
        "outputId": "eab7ad91-be2f-41fd-a340-d16c93cb3415"
      },
      "source": [
        "# for each pair of points, compute differences in their coordinates\n",
        "differences = X[:, np.newaxis, :] - X[np.newaxis, :, :]\n",
        "differences.shape"
      ],
      "execution_count": null,
      "outputs": [
        {
          "output_type": "execute_result",
          "data": {
            "text/plain": [
              "(10, 10, 2)"
            ]
          },
          "metadata": {
            "tags": []
          },
          "execution_count": 11
        }
      ]
    },
    {
      "cell_type": "code",
      "metadata": {
        "id": "6wTxhdheVV4u",
        "colab": {
          "base_uri": "https://localhost:8080/"
        },
        "outputId": "6722fd94-84a1-4f1f-cf9a-4fc74064f6ce"
      },
      "source": [
        "# square the coordinate differences\n",
        "sq_differences = differences ** 2\n",
        "sq_differences.shape"
      ],
      "execution_count": null,
      "outputs": [
        {
          "output_type": "execute_result",
          "data": {
            "text/plain": [
              "(10, 10, 2)"
            ]
          },
          "metadata": {
            "tags": []
          },
          "execution_count": 12
        }
      ]
    },
    {
      "cell_type": "code",
      "metadata": {
        "id": "3EeFYvUkVV4v",
        "colab": {
          "base_uri": "https://localhost:8080/"
        },
        "outputId": "b424332c-ef87-4281-aa48-d456a097bc20"
      },
      "source": [
        "# sum the coordinate differences to get the squared distance\n",
        "dist_sq = sq_differences.sum(-1)\n",
        "dist_sq.shape"
      ],
      "execution_count": null,
      "outputs": [
        {
          "output_type": "execute_result",
          "data": {
            "text/plain": [
              "(10, 10)"
            ]
          },
          "metadata": {
            "tags": []
          },
          "execution_count": 13
        }
      ]
    },
    {
      "cell_type": "markdown",
      "metadata": {
        "id": "--bXmruOVV4v"
      },
      "source": [
        "Just to double-check what we are doing, we should see that the diagonal of this matrix (i.e., the set of distances between each point and itself) is all zero:"
      ]
    },
    {
      "cell_type": "code",
      "metadata": {
        "id": "mdgoRx0fVV4v",
        "colab": {
          "base_uri": "https://localhost:8080/"
        },
        "outputId": "a0961050-f0d5-44c0-8ecf-c25fe93ea079"
      },
      "source": [
        "dist_sq.diagonal()"
      ],
      "execution_count": null,
      "outputs": [
        {
          "output_type": "execute_result",
          "data": {
            "text/plain": [
              "array([0., 0., 0., 0., 0., 0., 0., 0., 0., 0.])"
            ]
          },
          "metadata": {
            "tags": []
          },
          "execution_count": 14
        }
      ]
    },
    {
      "cell_type": "markdown",
      "metadata": {
        "id": "f3f3Ixr3VV4v"
      },
      "source": [
        "It checks out!\n",
        "With the pairwise square-distances converted, we can now use ``np.argsort`` to sort along each row. The leftmost columns will then give the indices of the nearest neighbors:"
      ]
    },
    {
      "cell_type": "code",
      "metadata": {
        "id": "xwxbQyJTVV4w",
        "colab": {
          "base_uri": "https://localhost:8080/"
        },
        "outputId": "7adbdb59-85ae-42c8-a29c-5ff321d075fd"
      },
      "source": [
        "nearest = np.argsort(dist_sq, axis=1)\n",
        "print(nearest)"
      ],
      "execution_count": null,
      "outputs": [
        {
          "output_type": "stream",
          "text": [
            "[[0 3 9 7 1 4 2 5 6 8]\n",
            " [1 4 7 9 3 6 8 5 0 2]\n",
            " [2 1 4 6 3 0 8 9 7 5]\n",
            " [3 9 7 0 1 4 5 8 6 2]\n",
            " [4 1 8 5 6 7 9 3 0 2]\n",
            " [5 8 6 4 1 7 9 3 2 0]\n",
            " [6 8 5 4 1 7 9 3 2 0]\n",
            " [7 9 3 1 4 0 5 8 6 2]\n",
            " [8 5 6 4 1 7 9 3 2 0]\n",
            " [9 7 3 0 1 4 5 8 6 2]]\n"
          ],
          "name": "stdout"
        }
      ]
    },
    {
      "cell_type": "markdown",
      "metadata": {
        "id": "TaP7sPk5VV4w"
      },
      "source": [
        "Notice that the first column gives the numbers 0 through 9 in order: this is due to the fact that each point's closest neighbor is itself, as we would expect.\n",
        "\n",
        "By using a full sort here, we've actually done more work than we need to in this case. If we're simply interested in the nearest $k$ neighbors, all we need is to partition each row so that the smallest $k + 1$ squared distances come first, with larger distances filling the remaining positions of the array. We can do this with the ``np.argpartition`` function:"
      ]
    },
    {
      "cell_type": "code",
      "metadata": {
        "id": "jdF4qSxUVV4w"
      },
      "source": [
        "K = 2\n",
        "nearest_partition = np.argpartition(dist_sq, K + 1, axis=1)"
      ],
      "execution_count": null,
      "outputs": []
    },
    {
      "cell_type": "markdown",
      "metadata": {
        "id": "Du2MIgjZVV4w"
      },
      "source": [
        "In order to visualize this network of neighbors, let's quickly plot the points along with lines representing the connections from each point to its two nearest neighbors:"
      ]
    },
    {
      "cell_type": "code",
      "metadata": {
        "id": "8zb_JRHnVV4w",
        "outputId": "cfd0b3db-33b7-4b8e-d67f-6612efd58dc7"
      },
      "source": [
        "plt.scatter(X[:, 0], X[:, 1], s=100)\n",
        "\n",
        "# draw lines from each point to its two nearest neighbors\n",
        "K = 2\n",
        "\n",
        "for i in range(X.shape[0]):\n",
        "    for j in nearest_partition[i, :K+1]:\n",
        "        # plot a line from X[i] to X[j]\n",
        "        # use some zip magic to make it happen:\n",
        "        plt.plot(*zip(X[j], X[i]), color='black')"
      ],
      "execution_count": null,
      "outputs": [
        {
          "output_type": "display_data",
          "data": {
            "image/png": "[encoded data removed]",
            "text/plain": [
              "<matplotlib.figure.Figure at 0x115ae2898>"
            ]
          },
          "metadata": {
            "tags": []
          }
        }
      ]
    },
    {
      "cell_type": "markdown",
      "metadata": {
        "id": "Qf5N7AvvVV4x"
      },
      "source": [
        "Each point in the plot has lines drawn to its two nearest neighbors.\n",
        "At first glance, it might seem strange that some of the points have more than two lines coming out of them: this is due to the fact that if point A is one of the two nearest neighbors of point B, this does not necessarily imply that point B is one of the two nearest neighbors of point A.\n",
        "\n",
        "Although the broadcasting and row-wise sorting of this approach might seem less straightforward than writing a loop, it turns out to be a very efficient way of operating on this data in Python.\n",
        "You might be tempted to do the same type of operation by manually looping through the data and sorting each set of neighbors individually, but this would almost certainly lead to a slower algorithm than the vectorized version we used. The beauty of this approach is that it's written in a way that's agnostic to the size of the input data: we could just as easily compute the neighbors among 100 or 1,000,000 points in any number of dimensions, and the code would look the same.\n",
        "\n",
        "Finally, I'll note that when doing very large nearest neighbor searches, there are tree-based and/or approximate algorithms that can scale as $\\mathcal{O}[N\\log N]$ or better rather than the $\\mathcal{O}[N^2]$ of the brute-force algorithm. One example of this is the KD-Tree, [implemented in Scikit-learn](http://scikit-learn.org/stable/modules/generated/sklearn.neighbors.KDTree.html)."
      ]
    },
    {
      "cell_type": "markdown",
      "metadata": {
        "id": "C8iylaSvVgQl"
      },
      "source": [
        "# Structured Data: NumPy's Structured Arrays"
      ]
    },
    {
      "cell_type": "markdown",
      "metadata": {
        "id": "Dkd6uyCOVgQm"
      },
      "source": [
        "Mặc dù thông thường dữ liệu của chúng ta có thể được biểu diễn tốt bằng một mảng giá trị đồng nhất, nhưng đôi khi điều này không đúng như vậy. Phần này trình bày việc sử dụng các mảng có cấu trúc và mảng bản ghi của NumPy, cung cấp khả năng lưu trữ hiệu quả cho dữ liệu hỗn hợp, không đồng nhất."
      ]
    },
    {
      "cell_type": "code",
      "metadata": {
        "collapsed": true,
        "id": "D6oVFF_nVgQm"
      },
      "source": [
        "import numpy as np"
      ],
      "execution_count": null,
      "outputs": []
    },
    {
      "cell_type": "markdown",
      "metadata": {
        "id": "LU7GqK6vVgQn"
      },
      "source": [
        "Hãy tưởng tượng rằng ta có một số danh mục dữ liệu về một số người (giả sử, tên, tuổi và cân nặng) và ta muốn lưu trữ các giá trị này để sử dụng trong một chương trình Python. Ta có thể lưu trữ chúng trong ba mảng riêng biệt:"
      ]
    },
    {
      "cell_type": "code",
      "metadata": {
        "id": "m9kjfOuYVgQo"
      },
      "source": [
        "name = ['Alice', 'Bob', 'Cathy', 'Doug']\n",
        "age = [25, 45, 37, 19]\n",
        "weight = [55.0, 85.5, 68.0, 61.5]"
      ],
      "execution_count": null,
      "outputs": []
    },
    {
      "cell_type": "markdown",
      "metadata": {
        "id": "CZRV8wxKVgQp"
      },
      "source": [
        "Không có gì ở đây cho chúng ta biết rằng ba mảng có liên quan với nhau; sẽ tự nhiên hơn nếu chúng ta có thể sử dụng một cấu trúc duy nhất để lưu trữ tất cả dữ liệu này. NumPy có thể xử lý điều này thông qua mảng có cấu trúc, là mảng có kiểu dữ liệu phức hợp.\n",
        "\n",
        "Nhớ lại rằng trước đây chúng ta đã tạo một mảng đơn giản bằng cách sử dụng một biểu thức như sau:"
      ]
    },
    {
      "cell_type": "code",
      "metadata": {
        "id": "0c7Akia_VgQp"
      },
      "source": [
        "x = np.zeros(4, dtype=int)"
      ],
      "execution_count": null,
      "outputs": []
    },
    {
      "cell_type": "markdown",
      "metadata": {
        "id": "lHOBml_YVgQq"
      },
      "source": [
        "Tương tự, chúng ta có thể tạo một mảng có cấu trúc bằng cách sử dụng đặc tả kiểu dữ liệu phức hợp:"
      ]
    },
    {
      "cell_type": "code",
      "metadata": {
        "id": "crouHAwiVgQr",
        "colab": {
          "base_uri": "https://localhost:8080/"
        },
        "outputId": "326b3854-a040-4a55-872d-c1520625247f"
      },
      "source": [
        "# Sử dụng kiểu dữ liệu phức hợp cho mảng có cấu trúc\n",
        "data = np.zeros(4, dtype={'names':('name', 'age', 'weight'),\n",
        "                          'formats':('U10', 'i4', 'f8')})\n",
        "print(data.dtype)"
      ],
      "execution_count": null,
      "outputs": [
        {
          "output_type": "stream",
          "text": [
            "[('name', '<U10'), ('age', '<i4'), ('weight', '<f8')]\n"
          ],
          "name": "stdout"
        }
      ]
    },
    {
      "cell_type": "markdown",
      "metadata": {
        "id": "JTfjm_UaVgQt"
      },
      "source": [
        "\n",
        "\n",
        "Ở đây ``'U10'`` dịch thành \"Unicode string of maximum length 10,\" ``'i4'`` chuyển thành \"4-byte (i.e., 32 bit) integer,\" và ``'f8'`` dịch thành \"8-byte (i.e., 64 bit) float.\"\n",
        "\n",
        "Bây giờ ta đã tạo một mảng vùng chứa trống, ta có thể lấp đầy mảng bằng danh sách các giá trị của mình:"
      ]
    },
    {
      "cell_type": "code",
      "metadata": {
        "id": "KOyzvET6VgQv",
        "colab": {
          "base_uri": "https://localhost:8080/"
        },
        "outputId": "df908d79-7b08-40cc-e28e-e88efb6b6d9f"
      },
      "source": [
        "data['name'] = name\n",
        "data['age'] = age\n",
        "data['weight'] = weight\n",
        "print(data)"
      ],
      "execution_count": null,
      "outputs": [
        {
          "output_type": "stream",
          "text": [
            "[('Alice', 25, 55. ) ('Bob', 45, 85.5) ('Cathy', 37, 68. )\n",
            " ('Doug', 19, 61.5)]\n"
          ],
          "name": "stdout"
        }
      ]
    },
    {
      "cell_type": "markdown",
      "metadata": {
        "id": "ZPxG83dwVgQx"
      },
      "source": [
        "Như chúng ta đã hy vọng, dữ liệu hiện được sắp xếp cùng nhau trong một khối bộ nhớ thuận tiện.\n",
        "\n",
        "Điều hữu ích với mảng có cấu trúc là bây giờ bạn có thể tham chiếu đến các giá trị theo chỉ mục hoặc theo tên:"
      ]
    },
    {
      "cell_type": "code",
      "metadata": {
        "id": "XRz6IFhJVgQy",
        "outputId": "bdf23617-bc36-41e2-eef2-5479ade077d4"
      },
      "source": [
        "# Lấy tất cả tên \n",
        "data['name']"
      ],
      "execution_count": null,
      "outputs": [
        {
          "output_type": "execute_result",
          "data": {
            "text/plain": [
              "array(['Alice', 'Bob', 'Cathy', 'Doug'], \n",
              "      dtype='<U10')"
            ]
          },
          "metadata": {
            "tags": []
          },
          "execution_count": 6
        }
      ]
    },
    {
      "cell_type": "code",
      "metadata": {
        "id": "7-cwsSQsVgQz",
        "colab": {
          "base_uri": "https://localhost:8080/"
        },
        "outputId": "83ba08b7-5150-4884-dbef-adc8c6ace40f"
      },
      "source": [
        "# Lấy hàng dữ liệu đầu tiên \n",
        "data[0]"
      ],
      "execution_count": null,
      "outputs": [
        {
          "output_type": "execute_result",
          "data": {
            "text/plain": [
              "('Alice', 25, 55.)"
            ]
          },
          "metadata": {
            "tags": []
          },
          "execution_count": 21
        }
      ]
    },
    {
      "cell_type": "code",
      "metadata": {
        "id": "YqWwIEDXVgQz",
        "colab": {
          "base_uri": "https://localhost:8080/",
          "height": 35
        },
        "outputId": "3b1c3e97-df92-459e-9e95-bf93a529c880"
      },
      "source": [
        "# Lấy tên từ hàng cuối cùng\n",
        "data[-1]['name']"
      ],
      "execution_count": null,
      "outputs": [
        {
          "output_type": "execute_result",
          "data": {
            "application/vnd.google.colaboratory.intrinsic+json": {
              "type": "string"
            },
            "text/plain": [
              "'Doug'"
            ]
          },
          "metadata": {
            "tags": []
          },
          "execution_count": 23
        }
      ]
    },
    {
      "cell_type": "markdown",
      "metadata": {
        "id": "b2W6otL1VgQ0"
      },
      "source": [
        "Sử dụng Boolean masking thậm chí còn cho phép thực hiện một số thao tác phức tạp hơn như lọc độ tuổi:"
      ]
    },
    {
      "cell_type": "code",
      "metadata": {
        "id": "tkL7y5S2VgQ0",
        "colab": {
          "base_uri": "https://localhost:8080/"
        },
        "outputId": "f279841f-44dc-43db-877d-ccdd1046e970"
      },
      "source": [
        "# Lấy tên những người có độ tuổi dưới 30\n",
        "data[data['age'] < 30]['name']"
      ],
      "execution_count": null,
      "outputs": [
        {
          "output_type": "execute_result",
          "data": {
            "text/plain": [
              "array(['Alice', 'Doug'], dtype='<U10')"
            ]
          },
          "metadata": {
            "tags": []
          },
          "execution_count": 24
        }
      ]
    },
    {
      "cell_type": "markdown",
      "metadata": {
        "id": "U8xE6YDKVgQ1"
      },
      "source": [
        "**Lưu ý:** nếu bạn muốn thực hiện bất kỳ thao tác nào phức tạp hơn những thao tác này, bạn có thể nên xem xét sử dụng gói **``Pandas``**, cụ thể là đối tượng ``Dataframe``."
      ]
    },
    {
      "cell_type": "markdown",
      "metadata": {
        "id": "HcRZkYuIVgQ2"
      },
      "source": [
        "## Creating Structured Arrays\n",
        "\n",
        "Các kiểu dữ liệu mảng có cấu trúc có thể được chỉ định theo một số cách.\n",
        "Trước đó, chúng ta đã thấy phương pháp dictionary."
      ]
    },
    {
      "cell_type": "code",
      "metadata": {
        "id": "0U1-LEVAVgQ2",
        "colab": {
          "base_uri": "https://localhost:8080/"
        },
        "outputId": "ce3d1887-dff0-4c64-d3fa-c9732a292c24"
      },
      "source": [
        "np.dtype({'names':('name', 'age', 'weight'),\n",
        "          'formats':('U10', 'i4', 'f8')})"
      ],
      "execution_count": null,
      "outputs": [
        {
          "output_type": "execute_result",
          "data": {
            "text/plain": [
              "dtype([('name', '<U10'), ('age', '<i4'), ('weight', '<f8')])"
            ]
          },
          "metadata": {
            "tags": []
          },
          "execution_count": 25
        }
      ]
    },
    {
      "cell_type": "markdown",
      "metadata": {
        "id": "wtVxlVy0VgQ3"
      },
      "source": [
        "Các kiểu số có thể được chỉ định bằng các kiểu của Python hoặc ``dtype`` của NumPy"
      ]
    },
    {
      "cell_type": "code",
      "metadata": {
        "id": "mEVjoz9HVgQ3",
        "colab": {
          "base_uri": "https://localhost:8080/"
        },
        "outputId": "dda5164e-e8ba-4417-b0bc-57f3300a4513"
      },
      "source": [
        "np.dtype({'names':('name', 'age', 'weight'),\n",
        "          'formats':((np.str_, 10), int, np.float32)})"
      ],
      "execution_count": null,
      "outputs": [
        {
          "output_type": "execute_result",
          "data": {
            "text/plain": [
              "dtype([('name', '<U10'), ('age', '<i8'), ('weight', '<f4')])"
            ]
          },
          "metadata": {
            "tags": []
          },
          "execution_count": 26
        }
      ]
    },
    {
      "cell_type": "markdown",
      "metadata": {
        "id": "jfvqDrF8VgQ4"
      },
      "source": [
        "Kiểu phức hợp (compound type) cũng có thể được chỉ định dưới dạng danh sách các bộ giá trị:"
      ]
    },
    {
      "cell_type": "code",
      "metadata": {
        "id": "hjAbg3LGVgQ4",
        "colab": {
          "base_uri": "https://localhost:8080/"
        },
        "outputId": "021d98ab-1540-4067-ff6f-df471e10d504"
      },
      "source": [
        "np.dtype([('name', 'S10'), ('age', 'i4'), ('weight', 'f8')])"
      ],
      "execution_count": null,
      "outputs": [
        {
          "output_type": "execute_result",
          "data": {
            "text/plain": [
              "dtype([('name', 'S10'), ('age', '<i4'), ('weight', '<f8')])"
            ]
          },
          "metadata": {
            "tags": []
          },
          "execution_count": 27
        }
      ]
    },
    {
      "cell_type": "markdown",
      "metadata": {
        "id": "qoxGY4fBVgQ5"
      },
      "source": [
        "Có thể chỉ định kiểu trong một chuỗi được phân tách bằng dấu phẩy:"
      ]
    },
    {
      "cell_type": "code",
      "metadata": {
        "id": "-ZrmHOYhVgQ5",
        "colab": {
          "base_uri": "https://localhost:8080/"
        },
        "outputId": "86cd125f-39ef-4e79-88d9-d5d344521564"
      },
      "source": [
        "np.dtype('S10,i4,f8')"
      ],
      "execution_count": null,
      "outputs": [
        {
          "output_type": "execute_result",
          "data": {
            "text/plain": [
              "dtype([('f0', 'S10'), ('f1', '<i4'), ('f2', '<f8')])"
            ]
          },
          "metadata": {
            "tags": []
          },
          "execution_count": 28
        }
      ]
    },
    {
      "cell_type": "markdown",
      "metadata": {
        "id": "1s9uS1ubVgQ6"
      },
      "source": [
        "Các mã định dạng chuỗi rút gọn có vẻ khó hiểu, nhưng chúng được xây dựng dựa trên các nguyên tắc đơn giản.\n",
        "\n",
        "Ký tự đầu tiên (tùy chọn) là ``<`` hoặc ``>``, có nghĩa là \"little endian\" hoặc \"big endian\", chỉ định quy ước sắp xếp cho các significant bits.\n",
        "\n",
        "Ký tự tiếp theo chỉ định kiểu dữ liệu: ký tự, byte, int, dấu chấm động, v.v. (xem bảng bên dưới).\n",
        "\n",
        "Ký tự cuối cùng hoặc các ký tự đại diện cho kích thước của đối tượng tính bằng byte.\n",
        "\n",
        "| Character        | Description           | Example                             |\n",
        "| ---------        | -----------           | -------                             | \n",
        "| ``'b'``          | Byte                  | ``np.dtype('b')``                   |\n",
        "| ``'i'``          | Signed integer        | ``np.dtype('i4') == np.int32``      |\n",
        "| ``'u'``          | Unsigned integer      | ``np.dtype('u1') == np.uint8``      |\n",
        "| ``'f'``          | Floating point        | ``np.dtype('f8') == np.int64``      |\n",
        "| ``'c'``          | Complex floating point| ``np.dtype('c16') == np.complex128``|\n",
        "| ``'S'``, ``'a'`` | String                | ``np.dtype('S5')``                  |\n",
        "| ``'U'``          | Unicode string        | ``np.dtype('U') == np.str_``        |\n",
        "| ``'V'``          | Raw data (void)       | ``np.dtype('V') == np.void``        |"
      ]
    },
    {
      "cell_type": "markdown",
      "metadata": {
        "id": "-cvQEmC_VgQ7"
      },
      "source": [
        "## More Advanced Compound Types\n",
        "\n",
        "Ta có thể định nghĩa kiểu phức hợp cao cấp hơn. Ví dụ, ta có thể tạo một kiểu mà mỗi phần tử chứa một mảnng hoặc một ma trận dữ liệu\n",
        "\n",
        "Ta tạo một kiểu dữ liệu với phần tử ``mat`` chứa một ma trận số phức $3\\times 3$"
      ]
    },
    {
      "cell_type": "code",
      "metadata": {
        "id": "aWCoXPKiVgQ8",
        "colab": {
          "base_uri": "https://localhost:8080/"
        },
        "outputId": "9c0eed44-5d6f-4da9-a002-c0c41c9852e6"
      },
      "source": [
        "tp = np.dtype([('id', 'i8'), ('mat', 'f8', (3, 3))])\n",
        "X = np.zeros(1, dtype=tp)\n",
        "print(X[0])\n",
        "print(X['mat'][0])"
      ],
      "execution_count": null,
      "outputs": [
        {
          "output_type": "stream",
          "text": [
            "(0, [[0., 0., 0.], [0., 0., 0.], [0., 0., 0.]])\n",
            "[[0. 0. 0.]\n",
            " [0. 0. 0.]\n",
            " [0. 0. 0.]]\n"
          ],
          "name": "stdout"
        }
      ]
    },
    {
      "cell_type": "markdown",
      "metadata": {
        "id": "bN_WaXrcVgQ-"
      },
      "source": [
        "Bây giờ mỗi phần tử trong mảng ``X`` bao gồm một id và một ma trận $3\\times 3$. Tại sao ta lại sử dụng điều này thay vì một mảng đa chiều đơn giản, hoặc là một dictionary? Lý do là kiểu NumPy này ánh xạ trực tiếp lên một định nghĩa cấu trúc C, vì vậy bộ đệm chứa nội dung mảng có thể được truy cập trực tiếp trong một chương trình C được viết thích hợp. Nếu bạn đang viết giao diện Python cho thư viện C hoặc Fortran kế thừa để thao tác dữ liệu có cấu trúc, có thể bạn sẽ thấy các mảng có cấu trúc khá hữu ích!"
      ]
    },
    {
      "cell_type": "markdown",
      "metadata": {
        "id": "n3kDXBS4VgQ_"
      },
      "source": [
        "## RecordArrays: Structured Arrays with a Twist\n",
        "\n",
        "NumPy cũng cung cấp lớp ``np.recarray``, lớp này gần giống với các mảng có cấu trúc vừa được mô tả, nhưng có thêm một tính năng: các trường có thể được truy cập dưới dạng thuộc tính thay vì dưới dạng khóa từ điển. Nhớ lại rằng trước đây chúng ta đã truy cập các độ tuổi bằng cách viết:"
      ]
    },
    {
      "cell_type": "code",
      "metadata": {
        "id": "mLyztkTKVgRA",
        "colab": {
          "base_uri": "https://localhost:8080/"
        },
        "outputId": "3b3ffec5-fd00-4b7a-d123-b134d29fe8bc"
      },
      "source": [
        "data['age']"
      ],
      "execution_count": null,
      "outputs": [
        {
          "output_type": "execute_result",
          "data": {
            "text/plain": [
              "array([25, 45, 37, 19], dtype=int32)"
            ]
          },
          "metadata": {
            "tags": []
          },
          "execution_count": 30
        }
      ]
    },
    {
      "cell_type": "markdown",
      "metadata": {
        "id": "pP6FmUnjVgRB"
      },
      "source": [
        "Nếu ta xem dữ liệu của mình dưới dạng một mảng bản ghi, ta có thể truy cập dữ liệu này như sau:"
      ]
    },
    {
      "cell_type": "code",
      "metadata": {
        "id": "2S7qCh9pVgRB",
        "colab": {
          "base_uri": "https://localhost:8080/"
        },
        "outputId": "0a0f9985-8665-43c8-a8ce-a974e9c6b405"
      },
      "source": [
        "data_rec = data.view(np.recarray)\n",
        "data_rec.age"
      ],
      "execution_count": null,
      "outputs": [
        {
          "output_type": "execute_result",
          "data": {
            "text/plain": [
              "array([25, 45, 37, 19], dtype=int32)"
            ]
          },
          "metadata": {
            "tags": []
          },
          "execution_count": 31
        }
      ]
    },
    {
      "cell_type": "markdown",
      "metadata": {
        "id": "P14TvVMZVgRC"
      },
      "source": [
        "Nhược điểm là đối với mảng bản ghi, có một số chi phí phụ liên quan đến việc truy cập các trường, ngay cả khi sử dụng cùng một cú pháp. Chúng ta có thể thấy điều này ở đây:"
      ]
    },
    {
      "cell_type": "code",
      "metadata": {
        "id": "nyOBM3C_VgRC",
        "colab": {
          "base_uri": "https://localhost:8080/"
        },
        "outputId": "ae8a0041-2d07-4e67-fb44-3c58ac87bdf9"
      },
      "source": [
        "%timeit data['age']\n",
        "%timeit data_rec['age']\n",
        "%timeit data_rec.age"
      ],
      "execution_count": null,
      "outputs": [
        {
          "output_type": "stream",
          "text": [
            "The slowest run took 41.56 times longer than the fastest. This could mean that an intermediate result is being cached.\n",
            "1000000 loops, best of 5: 249 ns per loop\n",
            "The slowest run took 6.39 times longer than the fastest. This could mean that an intermediate result is being cached.\n",
            "100000 loops, best of 5: 3.47 µs per loop\n",
            "The slowest run took 5.11 times longer than the fastest. This could mean that an intermediate result is being cached.\n",
            "100000 loops, best of 5: 4.57 µs per loop\n"
          ],
          "name": "stdout"
        }
      ]
    },
    {
      "cell_type": "markdown",
      "metadata": {
        "id": "iJg16offVgRD"
      },
      "source": [
        "Việc ký hiệu thuận tiện hơn có đáng giá hay không sẽ phụ thuộc vào ứng dụng của riêng bạn."
      ]
    },
    {
      "cell_type": "markdown",
      "metadata": {
        "id": "s7r5h2sJ1kbC"
      },
      "source": [
        "Nguồn tham khảo:\n",
        " * https://numpy.org/doc/\n",
        " * https://colab.research.google.com/github/jakevdp/PythonDataScienceHandbook/blob/master/notebooks/Index.ipynb"
      ]
    }
  ]
}