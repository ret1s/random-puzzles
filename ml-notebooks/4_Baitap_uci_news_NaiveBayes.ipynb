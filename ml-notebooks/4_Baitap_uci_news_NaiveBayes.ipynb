{
  "cells": [
    {
      "cell_type": "markdown",
      "metadata": {
        "id": "rkTEwH4232QA"
      },
      "source": [
        "# Bài tập Naive Bayes"
      ]
    },
    {
      "cell_type": "markdown",
      "source": [
        "* Họ và tên: Ngô Minh Hạnh\n",
        "* MSSV: 1810908"
      ],
      "metadata": {
        "id": "bBO1RrRk4P2t"
      }
    },
    {
      "cell_type": "markdown",
      "metadata": {
        "_cell_guid": "e93323c0-07e0-6b2c-47d1-1f82bb4e9b56",
        "id": "9eGgy7qb32QH"
      },
      "source": [
        "## Sử dụng MultinomialNB để phân nhóm cho tập News dataset\n",
        "- dataset: 'uci-news.csv'\n",
        "- Dựa vào `Title` để phân loại, các cột khác bỏ\n"
      ]
    },
    {
      "cell_type": "code",
      "source": [
        "from google.colab import drive\n",
        "drive.mount('/content/drive')"
      ],
      "metadata": {
        "colab": {
          "base_uri": "https://localhost:8080/"
        },
        "id": "k5DEHTBm4VW-",
        "outputId": "7c27d5cb-333e-474d-c54b-38fa1acdfe3f"
      },
      "execution_count": 1,
      "outputs": [
        {
          "output_type": "stream",
          "name": "stdout",
          "text": [
            "Mounted at /content/drive\n"
          ]
        }
      ]
    },
    {
      "cell_type": "code",
      "execution_count": 2,
      "metadata": {
        "id": "ZJK5_aQW32QJ"
      },
      "outputs": [],
      "source": [
        "import os\n",
        "import pandas as pd\n",
        "import numpy as np\n",
        "import seaborn as sns\n",
        "import matplotlib.pyplot as plt\n",
        "%matplotlib inline"
      ]
    },
    {
      "cell_type": "code",
      "execution_count": 3,
      "metadata": {
        "id": "2OeRy89732QM"
      },
      "outputs": [],
      "source": [
        "# we use UciNews dataset for this exercise"
      ]
    },
    {
      "cell_type": "markdown",
      "source": [
        "### I can't find the News dataset for this problem in the lab folder!"
      ],
      "metadata": {
        "id": "vmYirHdY5tr8"
      }
    }
  ],
  "metadata": {
    "kernelspec": {
      "display_name": "Python 3",
      "language": "python",
      "name": "python3"
    },
    "language_info": {
      "codemirror_mode": {
        "name": "ipython",
        "version": 3
      },
      "file_extension": ".py",
      "mimetype": "text/x-python",
      "name": "python",
      "nbconvert_exporter": "python",
      "pygments_lexer": "ipython3",
      "version": "3.6.6"
    },
    "colab": {
      "provenance": []
    }
  },
  "nbformat": 4,
  "nbformat_minor": 0
}